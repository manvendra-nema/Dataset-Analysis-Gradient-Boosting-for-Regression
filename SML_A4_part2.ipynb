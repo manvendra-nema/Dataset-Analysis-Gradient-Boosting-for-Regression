{
 "cells": [
  {
   "cell_type": "code",
   "execution_count": 15,
   "id": "acf77f04-7d87-408a-b214-690fc2e5d6a9",
   "metadata": {},
   "outputs": [
    {
     "name": "stdout",
     "output_type": "stream",
     "text": [
      "Shapes:\n",
      "x_train: (10665, 28, 28)\n",
      "y_train: (10665,)\n",
      "x_val: (2000, 28, 28)\n",
      "y_val: (2000,)\n",
      "x_test: (2115, 28, 28)\n",
      "y_test: (2115,)\n",
      "(10665, 5)\n",
      "(2000, 5)\n",
      "(2115, 5)\n"
     ]
    },
    {
     "name": "stderr",
     "output_type": "stream",
     "text": [
      "  0%|▎                                                                                 | 1/300 [00:10<50:52, 10.21s/it]"
     ]
    },
    {
     "name": "stdout",
     "output_type": "stream",
     "text": [
      "Iteration 1: Training MSE Regres Boost = 0.5277753872585863\n",
      "Iteration 1: Validation MSE Regres Boost = 0.4901132142178462\n"
     ]
    },
    {
     "name": "stderr",
     "output_type": "stream",
     "text": [
      "  1%|▌                                                                                 | 2/300 [00:20<51:34, 10.38s/it]"
     ]
    },
    {
     "name": "stdout",
     "output_type": "stream",
     "text": [
      "Iteration 2: Training MSE Regres Boost = 0.5173646043495899\n",
      "Iteration 2: Validation MSE Regres Boost = 0.4804229255600414\n"
     ]
    },
    {
     "name": "stderr",
     "output_type": "stream",
     "text": [
      "  1%|▊                                                                                 | 3/300 [00:30<50:37, 10.23s/it]"
     ]
    },
    {
     "name": "stdout",
     "output_type": "stream",
     "text": [
      "Iteration 3: Training MSE Regres Boost = 0.5071611582487052\n",
      "Iteration 3: Validation MSE Regres Boost = 0.47092622734253803\n"
     ]
    },
    {
     "name": "stderr",
     "output_type": "stream",
     "text": [
      "  1%|█                                                                                 | 4/300 [00:40<49:53, 10.11s/it]"
     ]
    },
    {
     "name": "stdout",
     "output_type": "stream",
     "text": [
      "Iteration 4: Training MSE Regres Boost = 0.4971619894584606\n",
      "Iteration 4: Validation MSE Regres Boost = 0.46162027093596186\n"
     ]
    },
    {
     "name": "stderr",
     "output_type": "stream",
     "text": [
      "  2%|█▎                                                                                | 5/300 [00:50<49:25, 10.05s/it]"
     ]
    },
    {
     "name": "stdout",
     "output_type": "stream",
     "text": [
      "Iteration 5: Training MSE Regres Boost = 0.4873641050731586\n",
      "Iteration 5: Validation MSE Regres Boost = 0.45250227376243274\n"
     ]
    },
    {
     "name": "stderr",
     "output_type": "stream",
     "text": [
      "  2%|█▋                                                                                | 6/300 [01:00<49:01, 10.01s/it]"
     ]
    },
    {
     "name": "stdout",
     "output_type": "stream",
     "text": [
      "Iteration 6: Training MSE Regres Boost = 0.47776456617472884\n",
      "Iteration 6: Validation MSE Regres Boost = 0.4435695075644779\n"
     ]
    },
    {
     "name": "stderr",
     "output_type": "stream",
     "text": [
      "  2%|█▉                                                                                | 7/300 [01:10<49:28, 10.13s/it]"
     ]
    },
    {
     "name": "stdout",
     "output_type": "stream",
     "text": [
      "Iteration 7: Training MSE Regres Boost = 0.4683604871428256\n",
      "Iteration 7: Validation MSE Regres Boost = 0.4348192977631282\n"
     ]
    },
    {
     "name": "stderr",
     "output_type": "stream",
     "text": [
      "  3%|██▏                                                                               | 8/300 [01:20<48:57, 10.06s/it]"
     ]
    },
    {
     "name": "stdout",
     "output_type": "stream",
     "text": [
      "Iteration 8: Training MSE Regres Boost = 0.45914905067481443\n",
      "Iteration 8: Validation MSE Regres Boost = 0.42624903743699166\n"
     ]
    },
    {
     "name": "stderr",
     "output_type": "stream",
     "text": [
      "  3%|██▍                                                                               | 9/300 [01:31<49:09, 10.14s/it]"
     ]
    },
    {
     "name": "stdout",
     "output_type": "stream",
     "text": [
      "Iteration 9: Training MSE Regres Boost = 0.4501274963742651\n",
      "Iteration 9: Validation MSE Regres Boost = 0.41785617670130015\n"
     ]
    },
    {
     "name": "stderr",
     "output_type": "stream",
     "text": [
      "  3%|██▋                                                                              | 10/300 [01:41<48:59, 10.14s/it]"
     ]
    },
    {
     "name": "stdout",
     "output_type": "stream",
     "text": [
      "Iteration 10: Training MSE Regres Boost = 0.4412931208458468\n",
      "Iteration 10: Validation MSE Regres Boost = 0.4096382227960379\n"
     ]
    },
    {
     "name": "stderr",
     "output_type": "stream",
     "text": [
      "  4%|██▉                                                                              | 11/300 [01:51<48:17, 10.03s/it]"
     ]
    },
    {
     "name": "stdout",
     "output_type": "stream",
     "text": [
      "Iteration 11: Training MSE Regres Boost = 0.4326432777869807\n",
      "Iteration 11: Validation MSE Regres Boost = 0.4015927401736619\n"
     ]
    },
    {
     "name": "stderr",
     "output_type": "stream",
     "text": [
      "  4%|███▏                                                                             | 12/300 [02:00<47:38,  9.92s/it]"
     ]
    },
    {
     "name": "stdout",
     "output_type": "stream",
     "text": [
      "Iteration 12: Training MSE Regres Boost = 0.42417537896279345\n",
      "Iteration 12: Validation MSE Regres Boost = 0.39371735140386555\n"
     ]
    },
    {
     "name": "stderr",
     "output_type": "stream",
     "text": [
      "  4%|███▌                                                                             | 13/300 [02:10<47:26,  9.92s/it]"
     ]
    },
    {
     "name": "stdout",
     "output_type": "stream",
     "text": [
      "Iteration 13: Training MSE Regres Boost = 0.4158869021349922\n",
      "Iteration 13: Validation MSE Regres Boost = 0.38600974455176007\n"
     ]
    },
    {
     "name": "stderr",
     "output_type": "stream",
     "text": [
      "  5%|███▊                                                                             | 14/300 [02:20<47:03,  9.87s/it]"
     ]
    },
    {
     "name": "stdout",
     "output_type": "stream",
     "text": [
      "Iteration 14: Training MSE Regres Boost = 0.4077753785627281\n",
      "Iteration 14: Validation MSE Regres Boost = 0.3784676615478418\n"
     ]
    },
    {
     "name": "stderr",
     "output_type": "stream",
     "text": [
      "  5%|████                                                                             | 15/300 [02:30<47:50, 10.07s/it]"
     ]
    },
    {
     "name": "stdout",
     "output_type": "stream",
     "text": [
      "Iteration 15: Training MSE Regres Boost = 0.3998383975629206\n",
      "Iteration 15: Validation MSE Regres Boost = 0.3710889024329707\n"
     ]
    },
    {
     "name": "stderr",
     "output_type": "stream",
     "text": [
      "  5%|████▎                                                                            | 16/300 [02:40<47:28, 10.03s/it]"
     ]
    },
    {
     "name": "stdout",
     "output_type": "stream",
     "text": [
      "Iteration 16: Training MSE Regres Boost = 0.39207360825049\n",
      "Iteration 16: Validation MSE Regres Boost = 0.36387132697495994\n"
     ]
    },
    {
     "name": "stderr",
     "output_type": "stream",
     "text": [
      "  6%|████▌                                                                            | 17/300 [02:50<47:07,  9.99s/it]"
     ]
    },
    {
     "name": "stdout",
     "output_type": "stream",
     "text": [
      "Iteration 17: Training MSE Regres Boost = 0.3844787228629816\n",
      "Iteration 17: Validation MSE Regres Boost = 0.35681285776178634\n"
     ]
    },
    {
     "name": "stderr",
     "output_type": "stream",
     "text": [
      "  6%|████▊                                                                            | 18/300 [03:00<46:58, 10.00s/it]"
     ]
    },
    {
     "name": "stdout",
     "output_type": "stream",
     "text": [
      "Iteration 18: Training MSE Regres Boost = 0.3770515082198275\n",
      "Iteration 18: Validation MSE Regres Boost = 0.34991147225958397\n"
     ]
    },
    {
     "name": "stderr",
     "output_type": "stream",
     "text": [
      "  6%|█████▏                                                                           | 19/300 [03:10<46:45,  9.98s/it]"
     ]
    },
    {
     "name": "stdout",
     "output_type": "stream",
     "text": [
      "Iteration 19: Training MSE Regres Boost = 0.36978978840317855\n",
      "Iteration 19: Validation MSE Regres Boost = 0.34316520530351646\n"
     ]
    },
    {
     "name": "stderr",
     "output_type": "stream",
     "text": [
      "  7%|█████▍                                                                           | 20/300 [03:20<46:38, 10.00s/it]"
     ]
    },
    {
     "name": "stdout",
     "output_type": "stream",
     "text": [
      "Iteration 20: Training MSE Regres Boost = 0.36269145055197705\n",
      "Iteration 20: Validation MSE Regres Boost = 0.3365721544841839\n"
     ]
    },
    {
     "name": "stderr",
     "output_type": "stream",
     "text": [
      "  7%|█████▋                                                                           | 21/300 [03:30<46:12,  9.94s/it]"
     ]
    },
    {
     "name": "stdout",
     "output_type": "stream",
     "text": [
      "Iteration 21: Training MSE Regres Boost = 0.355754439009171\n",
      "Iteration 21: Validation MSE Regres Boost = 0.33013047471073076\n"
     ]
    },
    {
     "name": "stderr",
     "output_type": "stream",
     "text": [
      "  7%|█████▉                                                                           | 22/300 [03:40<45:57,  9.92s/it]"
     ]
    },
    {
     "name": "stdout",
     "output_type": "stream",
     "text": [
      "Iteration 22: Training MSE Regres Boost = 0.3489767585949033\n",
      "Iteration 22: Validation MSE Regres Boost = 0.32383838124933256\n"
     ]
    },
    {
     "name": "stderr",
     "output_type": "stream",
     "text": [
      "  8%|██████▏                                                                          | 23/300 [03:50<45:47,  9.92s/it]"
     ]
    },
    {
     "name": "stdout",
     "output_type": "stream",
     "text": [
      "Iteration 23: Training MSE Regres Boost = 0.3423564697782635\n",
      "Iteration 23: Validation MSE Regres Boost = 0.31769414523738265\n"
     ]
    },
    {
     "name": "stderr",
     "output_type": "stream",
     "text": [
      "  8%|██████▍                                                                          | 24/300 [04:00<45:29,  9.89s/it]"
     ]
    },
    {
     "name": "stdout",
     "output_type": "stream",
     "text": [
      "Iteration 24: Training MSE Regres Boost = 0.3358916923662023\n",
      "Iteration 24: Validation MSE Regres Boost = 0.3116960971125353\n"
     ]
    },
    {
     "name": "stderr",
     "output_type": "stream",
     "text": [
      "  8%|██████▊                                                                          | 25/300 [04:10<45:15,  9.87s/it]"
     ]
    },
    {
     "name": "stdout",
     "output_type": "stream",
     "text": [
      "Iteration 25: Training MSE Regres Boost = 0.3295806089645601\n",
      "Iteration 25: Validation MSE Regres Boost = 0.30584262982504257\n"
     ]
    },
    {
     "name": "stderr",
     "output_type": "stream",
     "text": [
      "  9%|███████                                                                          | 26/300 [04:20<45:19,  9.93s/it]"
     ]
    },
    {
     "name": "stdout",
     "output_type": "stream",
     "text": [
      "Iteration 26: Training MSE Regres Boost = 0.3234214567421229\n",
      "Iteration 26: Validation MSE Regres Boost = 0.30013219119295464\n"
     ]
    },
    {
     "name": "stderr",
     "output_type": "stream",
     "text": [
      "  9%|███████▎                                                                         | 27/300 [04:30<45:25,  9.99s/it]"
     ]
    },
    {
     "name": "stdout",
     "output_type": "stream",
     "text": [
      "Iteration 27: Training MSE Regres Boost = 0.31741253177462464\n",
      "Iteration 27: Validation MSE Regres Boost = 0.2945632879243879\n"
     ]
    },
    {
     "name": "stderr",
     "output_type": "stream",
     "text": [
      "  9%|███████▌                                                                         | 28/300 [04:40<45:13,  9.97s/it]"
     ]
    },
    {
     "name": "stdout",
     "output_type": "stream",
     "text": [
      "Iteration 28: Training MSE Regres Boost = 0.311552192124322\n",
      "Iteration 28: Validation MSE Regres Boost = 0.28913448849617074\n"
     ]
    },
    {
     "name": "stderr",
     "output_type": "stream",
     "text": [
      " 10%|███████▊                                                                         | 29/300 [04:50<44:56,  9.95s/it]"
     ]
    },
    {
     "name": "stdout",
     "output_type": "stream",
     "text": [
      "Iteration 29: Training MSE Regres Boost = 0.30583885466904437\n",
      "Iteration 29: Validation MSE Regres Boost = 0.2838444201973406\n"
     ]
    },
    {
     "name": "stderr",
     "output_type": "stream",
     "text": [
      " 10%|████████                                                                         | 30/300 [05:00<45:06, 10.02s/it]"
     ]
    },
    {
     "name": "stdout",
     "output_type": "stream",
     "text": [
      "Iteration 30: Training MSE Regres Boost = 0.30027099214104147\n",
      "Iteration 30: Validation MSE Regres Boost = 0.27869176637765813\n"
     ]
    },
    {
     "name": "stderr",
     "output_type": "stream",
     "text": [
      " 10%|████████▎                                                                        | 31/300 [05:10<45:18, 10.11s/it]"
     ]
    },
    {
     "name": "stdout",
     "output_type": "stream",
     "text": [
      "Iteration 31: Training MSE Regres Boost = 0.2948471376800635\n",
      "Iteration 31: Validation MSE Regres Boost = 0.2736752706811203\n"
     ]
    },
    {
     "name": "stderr",
     "output_type": "stream",
     "text": [
      " 11%|████████▋                                                                        | 32/300 [05:20<44:53, 10.05s/it]"
     ]
    },
    {
     "name": "stdout",
     "output_type": "stream",
     "text": [
      "Iteration 32: Training MSE Regres Boost = 0.2895658822232066\n",
      "Iteration 32: Validation MSE Regres Boost = 0.26879373462131556\n"
     ]
    },
    {
     "name": "stderr",
     "output_type": "stream",
     "text": [
      " 11%|████████▉                                                                        | 33/300 [05:30<45:15, 10.17s/it]"
     ]
    },
    {
     "name": "stdout",
     "output_type": "stream",
     "text": [
      "Iteration 33: Training MSE Regres Boost = 0.2844258788461918\n",
      "Iteration 33: Validation MSE Regres Boost = 0.26404602160872875\n"
     ]
    },
    {
     "name": "stderr",
     "output_type": "stream",
     "text": [
      " 11%|█████████▏                                                                       | 34/300 [05:41<45:03, 10.16s/it]"
     ]
    },
    {
     "name": "stdout",
     "output_type": "stream",
     "text": [
      "Iteration 34: Training MSE Regres Boost = 0.2794258366147842\n",
      "Iteration 34: Validation MSE Regres Boost = 0.2594310512520179\n"
     ]
    },
    {
     "name": "stderr",
     "output_type": "stream",
     "text": [
      " 12%|█████████▍                                                                       | 35/300 [05:51<44:38, 10.11s/it]"
     ]
    },
    {
     "name": "stdout",
     "output_type": "stream",
     "text": [
      "Iteration 35: Training MSE Regres Boost = 0.27456452345093785\n",
      "Iteration 35: Validation MSE Regres Boost = 0.25494780200067585\n"
     ]
    },
    {
     "name": "stderr",
     "output_type": "stream",
     "text": [
      " 12%|█████████▋                                                                       | 36/300 [06:01<44:22, 10.09s/it]"
     ]
    },
    {
     "name": "stdout",
     "output_type": "stream",
     "text": [
      "Iteration 36: Training MSE Regres Boost = 0.2698407669041418\n",
      "Iteration 36: Validation MSE Regres Boost = 0.25059531187733003\n"
     ]
    },
    {
     "name": "stderr",
     "output_type": "stream",
     "text": [
      " 12%|█████████▉                                                                       | 37/300 [06:11<44:33, 10.17s/it]"
     ]
    },
    {
     "name": "stdout",
     "output_type": "stream",
     "text": [
      "Iteration 37: Training MSE Regres Boost = 0.26525345407180984\n",
      "Iteration 37: Validation MSE Regres Boost = 0.24637267839389174\n"
     ]
    },
    {
     "name": "stderr",
     "output_type": "stream",
     "text": [
      " 13%|██████████▎                                                                      | 38/300 [06:21<44:38, 10.22s/it]"
     ]
    },
    {
     "name": "stdout",
     "output_type": "stream",
     "text": [
      "Iteration 38: Training MSE Regres Boost = 0.26080153098507153\n",
      "Iteration 38: Validation MSE Regres Boost = 0.24227905800191102\n"
     ]
    },
    {
     "name": "stderr",
     "output_type": "stream",
     "text": [
      " 13%|██████████▌                                                                      | 39/300 [06:32<44:33, 10.24s/it]"
     ]
    },
    {
     "name": "stdout",
     "output_type": "stream",
     "text": [
      "Iteration 39: Training MSE Regres Boost = 0.25648400006315364\n",
      "Iteration 39: Validation MSE Regres Boost = 0.2383136636952361\n"
     ]
    },
    {
     "name": "stderr",
     "output_type": "stream",
     "text": [
      " 13%|██████████▊                                                                      | 40/300 [06:42<45:06, 10.41s/it]"
     ]
    },
    {
     "name": "stdout",
     "output_type": "stream",
     "text": [
      "Iteration 40: Training MSE Regres Boost = 0.2522999243682308\n",
      "Iteration 40: Validation MSE Regres Boost = 0.23447576898229158\n"
     ]
    },
    {
     "name": "stderr",
     "output_type": "stream",
     "text": [
      " 14%|███████████                                                                      | 41/300 [06:54<46:50, 10.85s/it]"
     ]
    },
    {
     "name": "stdout",
     "output_type": "stream",
     "text": [
      "Iteration 41: Training MSE Regres Boost = 0.2482484272468207\n",
      "Iteration 41: Validation MSE Regres Boost = 0.23076470756259732\n"
     ]
    },
    {
     "name": "stderr",
     "output_type": "stream",
     "text": [
      " 14%|███████████▎                                                                     | 42/300 [07:05<46:50, 10.89s/it]"
     ]
    },
    {
     "name": "stdout",
     "output_type": "stream",
     "text": [
      "Iteration 42: Training MSE Regres Boost = 0.24432868947013736\n",
      "Iteration 42: Validation MSE Regres Boost = 0.22717987064204212\n"
     ]
    },
    {
     "name": "stderr",
     "output_type": "stream",
     "text": [
      " 14%|███████████▌                                                                     | 43/300 [07:16<46:23, 10.83s/it]"
     ]
    },
    {
     "name": "stdout",
     "output_type": "stream",
     "text": [
      "Iteration 43: Training MSE Regres Boost = 0.24053994940233434\n",
      "Iteration 43: Validation MSE Regres Boost = 0.22372070711043673\n"
     ]
    },
    {
     "name": "stderr",
     "output_type": "stream",
     "text": [
      " 15%|███████████▉                                                                     | 44/300 [07:27<46:30, 10.90s/it]"
     ]
    },
    {
     "name": "stdout",
     "output_type": "stream",
     "text": [
      "Iteration 44: Training MSE Regres Boost = 0.23688150596675536\n",
      "Iteration 44: Validation MSE Regres Boost = 0.2203867262918596\n"
     ]
    },
    {
     "name": "stderr",
     "output_type": "stream",
     "text": [
      " 15%|████████████▏                                                                    | 45/300 [07:38<46:13, 10.88s/it]"
     ]
    },
    {
     "name": "stdout",
     "output_type": "stream",
     "text": [
      "Iteration 45: Training MSE Regres Boost = 0.23335271760244575\n",
      "Iteration 45: Validation MSE Regres Boost = 0.21717749697482763\n"
     ]
    },
    {
     "name": "stderr",
     "output_type": "stream",
     "text": [
      " 15%|████████████▍                                                                    | 46/300 [07:49<45:52, 10.84s/it]"
     ]
    },
    {
     "name": "stdout",
     "output_type": "stream",
     "text": [
      "Iteration 46: Training MSE Regres Boost = 0.22995300067478902\n",
      "Iteration 46: Validation MSE Regres Boost = 0.21409264594337854\n"
     ]
    },
    {
     "name": "stderr",
     "output_type": "stream",
     "text": [
      " 16%|████████████▋                                                                    | 47/300 [08:00<45:54, 10.89s/it]"
     ]
    },
    {
     "name": "stdout",
     "output_type": "stream",
     "text": [
      "Iteration 47: Training MSE Regres Boost = 0.22668182875629828\n",
      "Iteration 47: Validation MSE Regres Boost = 0.2111318572865078\n"
     ]
    },
    {
     "name": "stderr",
     "output_type": "stream",
     "text": [
      " 16%|████████████▉                                                                    | 48/300 [08:11<46:15, 11.01s/it]"
     ]
    },
    {
     "name": "stdout",
     "output_type": "stream",
     "text": [
      "Iteration 48: Training MSE Regres Boost = 0.22353873687068745\n",
      "Iteration 48: Validation MSE Regres Boost = 0.20829487635467125\n"
     ]
    },
    {
     "name": "stderr",
     "output_type": "stream",
     "text": [
      " 16%|█████████████▏                                                                   | 49/300 [08:22<46:25, 11.10s/it]"
     ]
    },
    {
     "name": "stdout",
     "output_type": "stream",
     "text": [
      "Iteration 49: Training MSE Regres Boost = 0.2205233180398451\n",
      "Iteration 49: Validation MSE Regres Boost = 0.2055815065690348\n"
     ]
    },
    {
     "name": "stderr",
     "output_type": "stream",
     "text": [
      " 17%|█████████████▌                                                                   | 50/300 [08:34<46:35, 11.18s/it]"
     ]
    },
    {
     "name": "stdout",
     "output_type": "stream",
     "text": [
      "Iteration 50: Training MSE Regres Boost = 0.21763522505426067\n",
      "Iteration 50: Validation MSE Regres Boost = 0.20299161104226526\n"
     ]
    },
    {
     "name": "stderr",
     "output_type": "stream",
     "text": [
      " 17%|█████████████▊                                                                   | 51/300 [08:45<46:11, 11.13s/it]"
     ]
    },
    {
     "name": "stdout",
     "output_type": "stream",
     "text": [
      "Iteration 51: Training MSE Regres Boost = 0.21487416744178944\n",
      "Iteration 51: Validation MSE Regres Boost = 0.200525109784153\n"
     ]
    },
    {
     "name": "stderr",
     "output_type": "stream",
     "text": [
      " 17%|██████████████                                                                   | 52/300 [08:55<45:45, 11.07s/it]"
     ]
    },
    {
     "name": "stdout",
     "output_type": "stream",
     "text": [
      "Iteration 52: Training MSE Regres Boost = 0.21216264223379935\n",
      "Iteration 52: Validation MSE Regres Boost = 0.1981081686548186\n"
     ]
    },
    {
     "name": "stderr",
     "output_type": "stream",
     "text": [
      " 18%|██████████████▎                                                                  | 53/300 [09:07<45:36, 11.08s/it]"
     ]
    },
    {
     "name": "stdout",
     "output_type": "stream",
     "text": [
      "Iteration 53: Training MSE Regres Boost = 0.20942442894226443\n",
      "Iteration 53: Validation MSE Regres Boost = 0.19566795081645613\n"
     ]
    },
    {
     "name": "stderr",
     "output_type": "stream",
     "text": [
      " 18%|██████████████▌                                                                  | 54/300 [09:18<45:36, 11.12s/it]"
     ]
    },
    {
     "name": "stdout",
     "output_type": "stream",
     "text": [
      "Iteration 54: Training MSE Regres Boost = 0.20681298930808828\n",
      "Iteration 54: Validation MSE Regres Boost = 0.1933510216406195\n"
     ]
    },
    {
     "name": "stderr",
     "output_type": "stream",
     "text": [
      " 18%|██████████████▊                                                                  | 55/300 [09:29<45:27, 11.13s/it]"
     ]
    },
    {
     "name": "stdout",
     "output_type": "stream",
     "text": [
      "Iteration 55: Training MSE Regres Boost = 0.20417503422566466\n",
      "Iteration 55: Validation MSE Regres Boost = 0.19101084393752937\n"
     ]
    },
    {
     "name": "stderr",
     "output_type": "stream",
     "text": [
      " 19%|███████████████                                                                  | 56/300 [09:40<45:30, 11.19s/it]"
     ]
    },
    {
     "name": "stdout",
     "output_type": "stream",
     "text": [
      "Iteration 56: Training MSE Regres Boost = 0.20166368016530245\n",
      "Iteration 56: Validation MSE Regres Boost = 0.18879392671519032\n"
     ]
    },
    {
     "name": "stderr",
     "output_type": "stream",
     "text": [
      " 19%|███████████████▍                                                                 | 57/300 [09:51<45:17, 11.18s/it]"
     ]
    },
    {
     "name": "stdout",
     "output_type": "stream",
     "text": [
      "Iteration 57: Training MSE Regres Boost = 0.19912598329199005\n",
      "Iteration 57: Validation MSE Regres Boost = 0.18655378914737245\n"
     ]
    },
    {
     "name": "stderr",
     "output_type": "stream",
     "text": [
      " 19%|███████████████▋                                                                 | 58/300 [10:03<45:23, 11.25s/it]"
     ]
    },
    {
     "name": "stdout",
     "output_type": "stream",
     "text": [
      "Iteration 58: Training MSE Regres Boost = 0.19671471480544192\n",
      "Iteration 58: Validation MSE Regres Boost = 0.1844368838785311\n"
     ]
    },
    {
     "name": "stderr",
     "output_type": "stream",
     "text": [
      " 20%|███████████████▉                                                                 | 59/300 [10:14<45:32, 11.34s/it]"
     ]
    },
    {
     "name": "stdout",
     "output_type": "stream",
     "text": [
      "Iteration 59: Training MSE Regres Boost = 0.19427727614124082\n",
      "Iteration 59: Validation MSE Regres Boost = 0.1822967864459856\n"
     ]
    },
    {
     "name": "stderr",
     "output_type": "stream",
     "text": [
      " 20%|████████████████▏                                                                | 60/300 [10:26<45:17, 11.32s/it]"
     ]
    },
    {
     "name": "stdout",
     "output_type": "stream",
     "text": [
      "Iteration 60: Training MSE Regres Boost = 0.1919660932285066\n",
      "Iteration 60: Validation MSE Regres Boost = 0.18027989313064194\n"
     ]
    },
    {
     "name": "stderr",
     "output_type": "stream",
     "text": [
      " 20%|████████████████▍                                                                | 61/300 [10:37<44:53, 11.27s/it]"
     ]
    },
    {
     "name": "stdout",
     "output_type": "stream",
     "text": [
      "Iteration 61: Training MSE Regres Boost = 0.1896289127734168\n",
      "Iteration 61: Validation MSE Regres Boost = 0.1782398358333686\n"
     ]
    },
    {
     "name": "stderr",
     "output_type": "stream",
     "text": [
      " 21%|████████████████▋                                                                | 62/300 [10:48<44:50, 11.30s/it]"
     ]
    },
    {
     "name": "stdout",
     "output_type": "stream",
     "text": [
      "Iteration 62: Training MSE Regres Boost = 0.18741781543449657\n",
      "Iteration 62: Validation MSE Regres Boost = 0.17632295447152263\n"
     ]
    },
    {
     "name": "stderr",
     "output_type": "stream",
     "text": [
      " 21%|█████████████████                                                                | 63/300 [11:00<44:41, 11.31s/it]"
     ]
    },
    {
     "name": "stdout",
     "output_type": "stream",
     "text": [
      "Iteration 63: Training MSE Regres Boost = 0.18518089318851805\n",
      "Iteration 63: Validation MSE Regres Boost = 0.17438293730952165\n"
     ]
    },
    {
     "name": "stderr",
     "output_type": "stream",
     "text": [
      " 21%|█████████████████▎                                                               | 64/300 [11:11<45:01, 11.45s/it]"
     ]
    },
    {
     "name": "stdout",
     "output_type": "stream",
     "text": [
      "Iteration 64: Training MSE Regres Boost = 0.18306988142341185\n",
      "Iteration 64: Validation MSE Regres Boost = 0.17256606790117324\n"
     ]
    },
    {
     "name": "stderr",
     "output_type": "stream",
     "text": [
      " 22%|█████████████████▌                                                               | 65/300 [11:23<44:55, 11.47s/it]"
     ]
    },
    {
     "name": "stdout",
     "output_type": "stream",
     "text": [
      "Iteration 65: Training MSE Regres Boost = 0.18093321738654453\n",
      "Iteration 65: Validation MSE Regres Boost = 0.17072609087444454\n"
     ]
    },
    {
     "name": "stderr",
     "output_type": "stream",
     "text": [
      " 22%|█████████████████▊                                                               | 66/300 [11:34<44:32, 11.42s/it]"
     ]
    },
    {
     "name": "stdout",
     "output_type": "stream",
     "text": [
      "Iteration 66: Training MSE Regres Boost = 0.17892229119525227\n",
      "Iteration 66: Validation MSE Regres Boost = 0.1690092334195938\n"
     ]
    },
    {
     "name": "stderr",
     "output_type": "stream",
     "text": [
      " 22%|██████████████████                                                               | 67/300 [11:46<44:25, 11.44s/it]"
     ]
    },
    {
     "name": "stdout",
     "output_type": "stream",
     "text": [
      "Iteration 67: Training MSE Regres Boost = 0.17688588536749622\n",
      "Iteration 67: Validation MSE Regres Boost = 0.16726929652813735\n"
     ]
    },
    {
     "name": "stderr",
     "output_type": "stream",
     "text": [
      " 23%|██████████████████▎                                                              | 68/300 [11:57<44:23, 11.48s/it]"
     ]
    },
    {
     "name": "stdout",
     "output_type": "stream",
     "text": [
      "Iteration 68: Training MSE Regres Boost = 0.17497504475001793\n",
      "Iteration 68: Validation MSE Regres Boost = 0.1656524510267843\n"
     ]
    },
    {
     "name": "stderr",
     "output_type": "stream",
     "text": [
      " 23%|██████████████████▋                                                              | 69/300 [12:09<44:17, 11.50s/it]"
     ]
    },
    {
     "name": "stdout",
     "output_type": "stream",
     "text": [
      "Iteration 69: Training MSE Regres Boost = 0.17303889713137321\n",
      "Iteration 69: Validation MSE Regres Boost = 0.16401255427060016\n"
     ]
    },
    {
     "name": "stderr",
     "output_type": "stream",
     "text": [
      " 23%|██████████████████▉                                                              | 70/300 [12:20<43:33, 11.36s/it]"
     ]
    },
    {
     "name": "stdout",
     "output_type": "stream",
     "text": [
      "Iteration 70: Training MSE Regres Boost = 0.1712281420877089\n",
      "Iteration 70: Validation MSE Regres Boost = 0.16249572072274482\n"
     ]
    },
    {
     "name": "stderr",
     "output_type": "stream",
     "text": [
      " 24%|███████████████████▏                                                             | 71/300 [12:31<43:15, 11.33s/it]"
     ]
    },
    {
     "name": "stdout",
     "output_type": "stream",
     "text": [
      "Iteration 71: Training MSE Regres Boost = 0.16939225267817545\n",
      "Iteration 71: Validation MSE Regres Boost = 0.1609558641018329\n"
     ]
    },
    {
     "name": "stderr",
     "output_type": "stream",
     "text": [
      " 24%|███████████████████▍                                                             | 72/300 [12:42<42:28, 11.18s/it]"
     ]
    },
    {
     "name": "stdout",
     "output_type": "stream",
     "text": [
      "Iteration 72: Training MSE Regres Boost = 0.16768158320832507\n",
      "Iteration 72: Validation MSE Regres Boost = 0.15953904250747517\n"
     ]
    },
    {
     "name": "stderr",
     "output_type": "stream",
     "text": [
      " 24%|███████████████████▋                                                             | 73/300 [12:53<42:23, 11.20s/it]"
     ]
    },
    {
     "name": "stdout",
     "output_type": "stream",
     "text": [
      "Iteration 73: Training MSE Regres Boost = 0.16594595200790296\n",
      "Iteration 73: Validation MSE Regres Boost = 0.15809922602183563\n"
     ]
    },
    {
     "name": "stderr",
     "output_type": "stream",
     "text": [
      " 25%|███████████████████▉                                                             | 74/300 [13:04<41:52, 11.12s/it]"
     ]
    },
    {
     "name": "stdout",
     "output_type": "stream",
     "text": [
      "Iteration 74: Training MSE Regres Boost = 0.16433536811186658\n",
      "Iteration 74: Validation MSE Regres Boost = 0.1567824163809756\n"
     ]
    },
    {
     "name": "stderr",
     "output_type": "stream",
     "text": [
      " 25%|████████████████████▎                                                            | 75/300 [13:15<42:01, 11.21s/it]"
     ]
    },
    {
     "name": "stdout",
     "output_type": "stream",
     "text": [
      "Iteration 75: Training MSE Regres Boost = 0.16269999512055566\n",
      "Iteration 75: Validation MSE Regres Boost = 0.15544264003060823\n"
     ]
    },
    {
     "name": "stderr",
     "output_type": "stream",
     "text": [
      " 25%|████████████████████▌                                                            | 76/300 [13:27<41:51, 11.21s/it]"
     ]
    },
    {
     "name": "stdout",
     "output_type": "stream",
     "text": [
      "Iteration 76: Training MSE Regres Boost = 0.16118949679833328\n",
      "Iteration 76: Validation MSE Regres Boost = 0.15422584234324582\n"
     ]
    },
    {
     "name": "stderr",
     "output_type": "stream",
     "text": [
      " 26%|████████████████████▊                                                            | 77/300 [13:38<41:54, 11.28s/it]"
     ]
    },
    {
     "name": "stdout",
     "output_type": "stream",
     "text": [
      "Iteration 77: Training MSE Regres Boost = 0.1596543820161337\n",
      "Iteration 77: Validation MSE Regres Boost = 0.15298610612815086\n"
     ]
    },
    {
     "name": "stderr",
     "output_type": "stream",
     "text": [
      " 26%|█████████████████████                                                            | 78/300 [13:49<41:35, 11.24s/it]"
     ]
    },
    {
     "name": "stdout",
     "output_type": "stream",
     "text": [
      "Iteration 78: Training MSE Regres Boost = 0.15824396926772522\n",
      "Iteration 78: Validation MSE Regres Boost = 0.15186932039428602\n"
     ]
    },
    {
     "name": "stderr",
     "output_type": "stream",
     "text": [
      " 26%|█████████████████████▎                                                           | 79/300 [14:01<41:26, 11.25s/it]"
     ]
    },
    {
     "name": "stdout",
     "output_type": "stream",
     "text": [
      "Iteration 79: Training MSE Regres Boost = 0.1568091126946369\n",
      "Iteration 79: Validation MSE Regres Boost = 0.15072962431446332\n"
     ]
    },
    {
     "name": "stderr",
     "output_type": "stream",
     "text": [
      " 27%|█████████████████████▌                                                           | 80/300 [14:12<41:03, 11.20s/it]"
     ]
    },
    {
     "name": "stdout",
     "output_type": "stream",
     "text": [
      "Iteration 80: Training MSE Regres Boost = 0.15549878552004248\n",
      "Iteration 80: Validation MSE Regres Boost = 0.14971285053409628\n"
     ]
    },
    {
     "name": "stderr",
     "output_type": "stream",
     "text": [
      " 27%|█████████████████████▊                                                           | 81/300 [14:23<40:58, 11.23s/it]"
     ]
    },
    {
     "name": "stdout",
     "output_type": "stream",
     "text": [
      "Iteration 81: Training MSE Regres Boost = 0.15416418715606542\n",
      "Iteration 81: Validation MSE Regres Boost = 0.14867319458954584\n"
     ]
    },
    {
     "name": "stderr",
     "output_type": "stream",
     "text": [
      " 27%|██████████████████████▏                                                          | 82/300 [14:34<40:38, 11.19s/it]"
     ]
    },
    {
     "name": "stdout",
     "output_type": "stream",
     "text": [
      "Iteration 82: Training MSE Regres Boost = 0.1529539455552849\n",
      "Iteration 82: Validation MSE Regres Boost = 0.1477564327626764\n"
     ]
    },
    {
     "name": "stderr",
     "output_type": "stream",
     "text": [
      " 28%|██████████████████████▍                                                          | 83/300 [14:45<40:42, 11.26s/it]"
     ]
    },
    {
     "name": "stdout",
     "output_type": "stream",
     "text": [
      "Iteration 83: Training MSE Regres Boost = 0.1517196054004191\n",
      "Iteration 83: Validation MSE Regres Boost = 0.14681681695339818\n"
     ]
    },
    {
     "name": "stderr",
     "output_type": "stream",
     "text": [
      " 28%|██████████████████████▋                                                          | 84/300 [14:58<41:23, 11.50s/it]"
     ]
    },
    {
     "name": "stdout",
     "output_type": "stream",
     "text": [
      "Iteration 84: Training MSE Regres Boost = 0.15060944937345264\n",
      "Iteration 84: Validation MSE Regres Boost = 0.14600006708002644\n"
     ]
    },
    {
     "name": "stderr",
     "output_type": "stream",
     "text": [
      " 28%|██████████████████████▉                                                          | 85/300 [15:09<40:56, 11.43s/it]"
     ]
    },
    {
     "name": "stdout",
     "output_type": "stream",
     "text": [
      "Iteration 85: Training MSE Regres Boost = 0.14947536742769812\n",
      "Iteration 85: Validation MSE Regres Boost = 0.14516049140602055\n"
     ]
    },
    {
     "name": "stderr",
     "output_type": "stream",
     "text": [
      " 29%|███████████████████████▏                                                         | 86/300 [15:20<40:21, 11.31s/it]"
     ]
    },
    {
     "name": "stdout",
     "output_type": "stream",
     "text": [
      "Iteration 86: Training MSE Regres Boost = 0.14846529697454564\n",
      "Iteration 86: Validation MSE Regres Boost = 0.14444375348614646\n"
     ]
    },
    {
     "name": "stderr",
     "output_type": "stream",
     "text": [
      " 29%|███████████████████████▍                                                         | 87/300 [15:32<40:38, 11.45s/it]"
     ]
    },
    {
     "name": "stdout",
     "output_type": "stream",
     "text": [
      "Iteration 87: Training MSE Regres Boost = 0.14743147323790234\n",
      "Iteration 87: Validation MSE Regres Boost = 0.1437042179474128\n"
     ]
    },
    {
     "name": "stderr",
     "output_type": "stream",
     "text": [
      " 29%|███████████████████████▊                                                         | 88/300 [15:44<41:44, 11.82s/it]"
     ]
    },
    {
     "name": "stdout",
     "output_type": "stream",
     "text": [
      "Iteration 88: Training MSE Regres Boost = 0.14652148835856385\n",
      "Iteration 88: Validation MSE Regres Boost = 0.14308749198103646\n"
     ]
    },
    {
     "name": "stderr",
     "output_type": "stream",
     "text": [
      " 30%|████████████████████████                                                         | 89/300 [15:57<42:39, 12.13s/it]"
     ]
    },
    {
     "name": "stdout",
     "output_type": "stream",
     "text": [
      "Iteration 89: Training MSE Regres Boost = 0.14558792283103186\n",
      "Iteration 89: Validation MSE Regres Boost = 0.1424479965775751\n"
     ]
    },
    {
     "name": "stderr",
     "output_type": "stream",
     "text": [
      " 30%|████████████████████████▎                                                        | 90/300 [16:10<43:19, 12.38s/it]"
     ]
    },
    {
     "name": "stdout",
     "output_type": "stream",
     "text": [
      "Iteration 90: Training MSE Regres Boost = 0.1447780235255073\n",
      "Iteration 90: Validation MSE Regres Boost = 0.1419312825646963\n"
     ]
    },
    {
     "name": "stderr",
     "output_type": "stream",
     "text": [
      " 30%|████████████████████████▌                                                        | 91/300 [16:22<43:02, 12.35s/it]"
     ]
    },
    {
     "name": "stdout",
     "output_type": "stream",
     "text": [
      "Iteration 91: Training MSE Regres Boost = 0.14394471620708663\n",
      "Iteration 91: Validation MSE Regres Boost = 0.14139182729650723\n"
     ]
    },
    {
     "name": "stderr",
     "output_type": "stream",
     "text": [
      " 31%|████████████████████████▊                                                        | 92/300 [16:35<43:03, 12.42s/it]"
     ]
    },
    {
     "name": "stdout",
     "output_type": "stream",
     "text": [
      "Iteration 92: Training MSE Regres Boost = 0.14323490247537604\n",
      "Iteration 92: Validation MSE Regres Boost = 0.1409751252371262\n"
     ]
    },
    {
     "name": "stderr",
     "output_type": "stream",
     "text": [
      " 31%|█████████████████████████                                                        | 93/300 [16:48<43:13, 12.53s/it]"
     ]
    },
    {
     "name": "stdout",
     "output_type": "stream",
     "text": [
      "Iteration 93: Training MSE Regres Boost = 0.14250185336606663\n",
      "Iteration 93: Validation MSE Regres Boost = 0.1405357101042094\n"
     ]
    },
    {
     "name": "stderr",
     "output_type": "stream",
     "text": [
      " 31%|█████████████████████████▍                                                       | 94/300 [17:00<43:00, 12.53s/it]"
     ]
    },
    {
     "name": "stdout",
     "output_type": "stream",
     "text": [
      "Iteration 94: Training MSE Regres Boost = 0.14189212520817002\n",
      "Iteration 94: Validation MSE Regres Boost = 0.14021901999832592\n"
     ]
    },
    {
     "name": "stderr",
     "output_type": "stream",
     "text": [
      " 32%|█████████████████████████▋                                                       | 95/300 [17:13<42:32, 12.45s/it]"
     ]
    },
    {
     "name": "stdout",
     "output_type": "stream",
     "text": [
      "Iteration 95: Training MSE Regres Boost = 0.14125933430797183\n",
      "Iteration 95: Validation MSE Regres Boost = 0.13987964500068142\n"
     ]
    },
    {
     "name": "stderr",
     "output_type": "stream",
     "text": [
      " 32%|█████████████████████████▉                                                       | 96/300 [17:25<42:32, 12.51s/it]"
     ]
    },
    {
     "name": "stdout",
     "output_type": "stream",
     "text": [
      "Iteration 96: Training MSE Regres Boost = 0.14074969172388924\n",
      "Iteration 96: Validation MSE Regres Boost = 0.13966296684829566\n"
     ]
    },
    {
     "name": "stderr",
     "output_type": "stream",
     "text": [
      " 32%|██████████████████████████▏                                                      | 97/300 [17:38<42:26, 12.55s/it]"
     ]
    },
    {
     "name": "stdout",
     "output_type": "stream",
     "text": [
      "Iteration 97: Training MSE Regres Boost = 0.14021715903280238\n",
      "Iteration 97: Validation MSE Regres Boost = 0.13942363198592345\n"
     ]
    },
    {
     "name": "stderr",
     "output_type": "stream",
     "text": [
      " 33%|██████████████████████████▍                                                      | 98/300 [17:50<42:14, 12.55s/it]"
     ]
    },
    {
     "name": "stdout",
     "output_type": "stream",
     "text": [
      "Iteration 98: Training MSE Regres Boost = 0.1398076020225337\n",
      "Iteration 98: Validation MSE Regres Boost = 0.13930696578703533\n"
     ]
    },
    {
     "name": "stderr",
     "output_type": "stream",
     "text": [
      " 33%|██████████████████████████▋                                                      | 99/300 [18:01<40:09, 11.99s/it]"
     ]
    },
    {
     "name": "stdout",
     "output_type": "stream",
     "text": [
      "Iteration 99: Training MSE Regres Boost = 0.13937532754055812\n",
      "Iteration 99: Validation MSE Regres Boost = 0.1391676710599354\n"
     ]
    },
    {
     "name": "stderr",
     "output_type": "stream",
     "text": [
      " 33%|██████████████████████████▋                                                     | 100/300 [18:09<36:23, 10.92s/it]"
     ]
    },
    {
     "name": "stdout",
     "output_type": "stream",
     "text": [
      "Iteration 100: Training MSE Regres Boost = 0.13906585610410344\n",
      "Iteration 100: Validation MSE Regres Boost = 0.13915101681454495\n"
     ]
    },
    {
     "name": "stderr",
     "output_type": "stream",
     "text": [
      " 34%|██████████████████████████▉                                                     | 101/300 [18:18<33:32, 10.12s/it]"
     ]
    },
    {
     "name": "stdout",
     "output_type": "stream",
     "text": [
      "Iteration 101: Training MSE Regres Boost = 0.13873383983123908\n",
      "Iteration 101: Validation MSE Regres Boost = 0.13911176222271723\n"
     ]
    },
    {
     "name": "stderr",
     "output_type": "stream",
     "text": [
      " 34%|███████████████████████████▏                                                    | 102/300 [18:26<31:28,  9.54s/it]"
     ]
    },
    {
     "name": "stdout",
     "output_type": "stream",
     "text": [
      "Iteration 102: Training MSE Regres Boost = 0.13852445396859842\n",
      "Iteration 102: Validation MSE Regres Boost = 0.1391951199308245\n"
     ]
    },
    {
     "name": "stderr",
     "output_type": "stream",
     "text": [
      " 34%|███████████████████████████▍                                                    | 103/300 [18:34<29:58,  9.13s/it]"
     ]
    },
    {
     "name": "stdout",
     "output_type": "stream",
     "text": [
      "Iteration 103: Training MSE Regres Boost = 0.1382926959048454\n",
      "Iteration 103: Validation MSE Regres Boost = 0.1392559054742691\n"
     ]
    },
    {
     "name": "stderr",
     "output_type": "stream",
     "text": [
      " 35%|███████████████████████████▋                                                    | 104/300 [18:42<28:50,  8.83s/it]"
     ]
    },
    {
     "name": "stdout",
     "output_type": "stream",
     "text": [
      "Iteration 104: Training MSE Regres Boost = 0.1381833956160187\n",
      "Iteration 104: Validation MSE Regres Boost = 0.139439275135874\n"
     ]
    },
    {
     "name": "stderr",
     "output_type": "stream",
     "text": [
      " 35%|████████████████████████████                                                    | 105/300 [18:51<28:12,  8.68s/it]"
     ]
    },
    {
     "name": "stdout",
     "output_type": "stream",
     "text": [
      "Iteration 105: Training MSE Regres Boost = 0.13805189576137689\n",
      "Iteration 105: Validation MSE Regres Boost = 0.1396001008145909\n"
     ]
    },
    {
     "name": "stderr",
     "output_type": "stream",
     "text": [
      " 35%|████████████████████████████▎                                                   | 106/300 [18:59<27:39,  8.56s/it]"
     ]
    },
    {
     "name": "stdout",
     "output_type": "stream",
     "text": [
      "Iteration 106: Training MSE Regres Boost = 0.13804268104636414\n",
      "Iteration 106: Validation MSE Regres Boost = 0.13988348242969345\n"
     ]
    },
    {
     "name": "stderr",
     "output_type": "stream",
     "text": [
      " 36%|████████████████████████████▌                                                   | 107/300 [19:07<27:18,  8.49s/it]"
     ]
    },
    {
     "name": "stdout",
     "output_type": "stream",
     "text": [
      "Iteration 107: Training MSE Regres Boost = 0.13801143940083363\n",
      "Iteration 107: Validation MSE Regres Boost = 0.14014434824368258\n"
     ]
    },
    {
     "name": "stderr",
     "output_type": "stream",
     "text": [
      " 36%|████████████████████████████▊                                                   | 108/300 [19:16<27:03,  8.46s/it]"
     ]
    },
    {
     "name": "stdout",
     "output_type": "stream",
     "text": [
      "Iteration 108: Training MSE Regres Boost = 0.1381023102596349\n",
      "Iteration 108: Validation MSE Regres Boost = 0.14052774181228284\n"
     ]
    },
    {
     "name": "stderr",
     "output_type": "stream",
     "text": [
      " 36%|█████████████████████████████                                                   | 109/300 [19:24<26:46,  8.41s/it]"
     ]
    },
    {
     "name": "stdout",
     "output_type": "stream",
     "text": [
      "Iteration 109: Training MSE Regres Boost = 0.13817132682321565\n",
      "Iteration 109: Validation MSE Regres Boost = 0.14088864776154425\n"
     ]
    },
    {
     "name": "stderr",
     "output_type": "stream",
     "text": [
      " 37%|█████████████████████████████▎                                                  | 110/300 [19:33<27:01,  8.53s/it]"
     ]
    },
    {
     "name": "stdout",
     "output_type": "stream",
     "text": [
      "Iteration 110: Training MSE Regres Boost = 0.13836228325583086\n",
      "Iteration 110: Validation MSE Regres Boost = 0.14137205328364214\n"
     ]
    },
    {
     "name": "stderr",
     "output_type": "stream",
     "text": [
      " 37%|█████████████████████████████▌                                                  | 111/300 [19:41<26:49,  8.52s/it]"
     ]
    },
    {
     "name": "stdout",
     "output_type": "stream",
     "text": [
      "Iteration 111: Training MSE Regres Boost = 0.13853155802852293\n",
      "Iteration 111: Validation MSE Regres Boost = 0.14183299936817587\n"
     ]
    },
    {
     "name": "stderr",
     "output_type": "stream",
     "text": [
      " 37%|█████████████████████████████▊                                                  | 112/300 [19:49<26:20,  8.41s/it]"
     ]
    },
    {
     "name": "stdout",
     "output_type": "stream",
     "text": [
      "Iteration 112: Training MSE Regres Boost = 0.13882260003495211\n",
      "Iteration 112: Validation MSE Regres Boost = 0.14241641684377143\n"
     ]
    },
    {
     "name": "stderr",
     "output_type": "stream",
     "text": [
      " 38%|██████████████████████████████▏                                                 | 113/300 [19:58<26:06,  8.38s/it]"
     ]
    },
    {
     "name": "stdout",
     "output_type": "stream",
     "text": [
      "Iteration 113: Training MSE Regres Boost = 0.13909213301675546\n",
      "Iteration 113: Validation MSE Regres Boost = 0.14297740306357748\n"
     ]
    },
    {
     "name": "stderr",
     "output_type": "stream",
     "text": [
      " 38%|██████████████████████████████▍                                                 | 114/300 [20:06<25:45,  8.31s/it]"
     ]
    },
    {
     "name": "stdout",
     "output_type": "stream",
     "text": [
      "Iteration 114: Training MSE Regres Boost = 0.13948326059699862\n",
      "Iteration 114: Validation MSE Regres Boost = 0.14366083249267067\n"
     ]
    },
    {
     "name": "stderr",
     "output_type": "stream",
     "text": [
      " 38%|██████████████████████████████▋                                                 | 115/300 [20:14<25:39,  8.32s/it]"
     ]
    },
    {
     "name": "stdout",
     "output_type": "stream",
     "text": [
      "Iteration 115: Training MSE Regres Boost = 0.13985305178791316\n",
      "Iteration 115: Validation MSE Regres Boost = 0.1443218588477489\n"
     ]
    },
    {
     "name": "stderr",
     "output_type": "stream",
     "text": [
      " 39%|██████████████████████████████▉                                                 | 116/300 [20:22<25:33,  8.33s/it]"
     ]
    },
    {
     "name": "stdout",
     "output_type": "stream",
     "text": [
      "Iteration 116: Training MSE Regres Boost = 0.14034426494197033\n",
      "Iteration 116: Validation MSE Regres Boost = 0.14510530023033977\n"
     ]
    },
    {
     "name": "stderr",
     "output_type": "stream",
     "text": [
      " 39%|███████████████████████████████▏                                                | 117/300 [20:31<25:42,  8.43s/it]"
     ]
    },
    {
     "name": "stdout",
     "output_type": "stream",
     "text": [
      "Iteration 117: Training MSE Regres Boost = 0.14081431434199623\n",
      "Iteration 117: Validation MSE Regres Boost = 0.14586636672069037\n"
     ]
    },
    {
     "name": "stderr",
     "output_type": "stream",
     "text": [
      " 39%|███████████████████████████████▍                                                | 118/300 [20:40<25:38,  8.45s/it]"
     ]
    },
    {
     "name": "stdout",
     "output_type": "stream",
     "text": [
      "Iteration 118: Training MSE Regres Boost = 0.1414056130698673\n",
      "Iteration 118: Validation MSE Regres Boost = 0.1467498200567789\n"
     ]
    },
    {
     "name": "stderr",
     "output_type": "stream",
     "text": [
      " 40%|███████████████████████████████▋                                                | 119/300 [20:48<25:23,  8.42s/it]"
     ]
    },
    {
     "name": "stdout",
     "output_type": "stream",
     "text": [
      "Iteration 119: Training MSE Regres Boost = 0.14197592067900447\n",
      "Iteration 119: Validation MSE Regres Boost = 0.14761092668240167\n"
     ]
    },
    {
     "name": "stderr",
     "output_type": "stream",
     "text": [
      " 40%|████████████████████████████████                                                | 120/300 [20:58<26:35,  8.87s/it]"
     ]
    },
    {
     "name": "stdout",
     "output_type": "stream",
     "text": [
      "Iteration 120: Training MSE Regres Boost = 0.14266730498068955\n",
      "Iteration 120: Validation MSE Regres Boost = 0.14859439197198795\n"
     ]
    },
    {
     "name": "stderr",
     "output_type": "stream",
     "text": [
      " 40%|████████████████████████████████▎                                               | 121/300 [21:10<29:44,  9.97s/it]"
     ]
    },
    {
     "name": "stdout",
     "output_type": "stream",
     "text": [
      "Iteration 121: Training MSE Regres Boost = 0.14333787079893798\n",
      "Iteration 121: Validation MSE Regres Boost = 0.14955553873288308\n"
     ]
    },
    {
     "name": "stderr",
     "output_type": "stream",
     "text": [
      " 41%|████████████████████████████████▌                                               | 122/300 [21:23<32:03, 10.80s/it]"
     ]
    },
    {
     "name": "stdout",
     "output_type": "stream",
     "text": [
      "Iteration 122: Training MSE Regres Boost = 0.14412934067443706\n",
      "Iteration 122: Validation MSE Regres Boost = 0.1506390159759669\n"
     ]
    },
    {
     "name": "stderr",
     "output_type": "stream",
     "text": [
      " 41%|████████████████████████████████▊                                               | 123/300 [21:36<33:16, 11.28s/it]"
     ]
    },
    {
     "name": "stdout",
     "output_type": "stream",
     "text": [
      "Iteration 123: Training MSE Regres Boost = 0.14490016470179679\n",
      "Iteration 123: Validation MSE Regres Boost = 0.15170020287213432\n"
     ]
    },
    {
     "name": "stderr",
     "output_type": "stream",
     "text": [
      " 41%|█████████████████████████████████                                               | 124/300 [21:48<34:08, 11.64s/it]"
     ]
    },
    {
     "name": "stdout",
     "output_type": "stream",
     "text": [
      "Iteration 124: Training MSE Regres Boost = 0.14579172015110983\n",
      "Iteration 124: Validation MSE Regres Boost = 0.15288369206871577\n"
     ]
    },
    {
     "name": "stderr",
     "output_type": "stream",
     "text": [
      " 42%|█████████████████████████████████▎                                              | 125/300 [22:00<34:22, 11.78s/it]"
     ]
    },
    {
     "name": "stdout",
     "output_type": "stream",
     "text": [
      "Iteration 125: Training MSE Regres Boost = 0.14666280238758075\n",
      "Iteration 125: Validation MSE Regres Boost = 0.1540449191001555\n"
     ]
    },
    {
     "name": "stderr",
     "output_type": "stream",
     "text": [
      " 42%|█████████████████████████████████▌                                              | 126/300 [22:12<34:30, 11.90s/it]"
     ]
    },
    {
     "name": "stdout",
     "output_type": "stream",
     "text": [
      "Iteration 126: Training MSE Regres Boost = 0.14765444341070777\n",
      "Iteration 126: Validation MSE Regres Boost = 0.15532842025023463\n"
     ]
    },
    {
     "name": "stderr",
     "output_type": "stream",
     "text": [
      " 42%|█████████████████████████████████▊                                              | 127/300 [22:24<34:08, 11.84s/it]"
     ]
    },
    {
     "name": "stdout",
     "output_type": "stream",
     "text": [
      "Iteration 127: Training MSE Regres Boost = 0.14862578385629005\n",
      "Iteration 127: Validation MSE Regres Boost = 0.15658968741694662\n"
     ]
    },
    {
     "name": "stderr",
     "output_type": "stream",
     "text": [
      " 43%|██████████████████████████████████▏                                             | 128/300 [22:36<34:05, 11.89s/it]"
     ]
    },
    {
     "name": "stdout",
     "output_type": "stream",
     "text": [
      "Iteration 128: Training MSE Regres Boost = 0.14971751045323106\n",
      "Iteration 128: Validation MSE Regres Boost = 0.15797320052052352\n"
     ]
    },
    {
     "name": "stderr",
     "output_type": "stream",
     "text": [
      " 43%|██████████████████████████████████▍                                             | 129/300 [22:48<33:50, 11.87s/it]"
     ]
    },
    {
     "name": "stdout",
     "output_type": "stream",
     "text": [
      "Iteration 129: Training MSE Regres Boost = 0.15078910910792453\n",
      "Iteration 129: Validation MSE Regres Boost = 0.15933450782250771\n"
     ]
    },
    {
     "name": "stderr",
     "output_type": "stream",
     "text": [
      " 43%|██████████████████████████████████▋                                             | 130/300 [23:01<34:27, 12.16s/it]"
     ]
    },
    {
     "name": "stdout",
     "output_type": "stream",
     "text": [
      "Iteration 130: Training MSE Regres Boost = 0.15198092127867954\n",
      "Iteration 130: Validation MSE Regres Boost = 0.16081803287958227\n"
     ]
    },
    {
     "name": "stderr",
     "output_type": "stream",
     "text": [
      " 44%|██████████████████████████████████▉                                             | 131/300 [23:14<35:16, 12.53s/it]"
     ]
    },
    {
     "name": "stdout",
     "output_type": "stream",
     "text": [
      "Iteration 131: Training MSE Regres Boost = 0.15315277814248437\n",
      "Iteration 131: Validation MSE Regres Boost = 0.1622793803168388\n"
     ]
    },
    {
     "name": "stderr",
     "output_type": "stream",
     "text": [
      " 44%|███████████████████████████████████▏                                            | 132/300 [23:27<35:11, 12.57s/it]"
     ]
    },
    {
     "name": "stdout",
     "output_type": "stream",
     "text": [
      "Iteration 132: Training MSE Regres Boost = 0.15444467588705332\n",
      "Iteration 132: Validation MSE Regres Boost = 0.16386291732741098\n"
     ]
    },
    {
     "name": "stderr",
     "output_type": "stream",
     "text": [
      " 44%|███████████████████████████████████▍                                            | 133/300 [23:39<35:06, 12.61s/it]"
     ]
    },
    {
     "name": "stdout",
     "output_type": "stream",
     "text": [
      "Iteration 133: Training MSE Regres Boost = 0.15571679095996938\n",
      "Iteration 133: Validation MSE Regres Boost = 0.16542430489993978\n"
     ]
    },
    {
     "name": "stderr",
     "output_type": "stream",
     "text": [
      " 45%|███████████████████████████████████▋                                            | 134/300 [23:52<35:01, 12.66s/it]"
     ]
    },
    {
     "name": "stdout",
     "output_type": "stream",
     "text": [
      "Iteration 134: Training MSE Regres Boost = 0.15710877427835235\n",
      "Iteration 134: Validation MSE Regres Boost = 0.16710785386400964\n"
     ]
    },
    {
     "name": "stderr",
     "output_type": "stream",
     "text": [
      " 45%|████████████████████████████████████                                            | 135/300 [24:06<35:31, 12.92s/it]"
     ]
    },
    {
     "name": "stdout",
     "output_type": "stream",
     "text": [
      "Iteration 135: Training MSE Regres Boost = 0.15848114756037968\n",
      "Iteration 135: Validation MSE Regres Boost = 0.16876928157181068\n"
     ]
    },
    {
     "name": "stderr",
     "output_type": "stream",
     "text": [
      " 45%|████████████████████████████████████▎                                           | 136/300 [24:18<35:06, 12.84s/it]"
     ]
    },
    {
     "name": "stdout",
     "output_type": "stream",
     "text": [
      "Iteration 136: Training MSE Regres Boost = 0.1599732164525766\n",
      "Iteration 136: Validation MSE Regres Boost = 0.1705528424893782\n"
     ]
    },
    {
     "name": "stderr",
     "output_type": "stream",
     "text": [
      " 46%|████████████████████████████████████▌                                           | 137/300 [24:31<34:19, 12.63s/it]"
     ]
    },
    {
     "name": "stdout",
     "output_type": "stream",
     "text": [
      "Iteration 137: Training MSE Regres Boost = 0.1614458479437152\n",
      "Iteration 137: Validation MSE Regres Boost = 0.17231431033245154\n"
     ]
    },
    {
     "name": "stderr",
     "output_type": "stream",
     "text": [
      " 46%|████████████████████████████████████▊                                           | 138/300 [24:42<33:21, 12.35s/it]"
     ]
    },
    {
     "name": "stdout",
     "output_type": "stream",
     "text": [
      "Iteration 138: Training MSE Regres Boost = 0.1630380024097261\n",
      "Iteration 138: Validation MSE Regres Boost = 0.17419788320351673\n"
     ]
    },
    {
     "name": "stderr",
     "output_type": "stream",
     "text": [
      " 46%|█████████████████████████████████████                                           | 139/300 [24:54<32:29, 12.11s/it]"
     ]
    },
    {
     "name": "stdout",
     "output_type": "stream",
     "text": [
      "Iteration 139: Training MSE Regres Boost = 0.16461089210997598\n",
      "Iteration 139: Validation MSE Regres Boost = 0.17605939118186234\n"
     ]
    },
    {
     "name": "stderr",
     "output_type": "stream",
     "text": [
      " 47%|█████████████████████████████████████▎                                          | 140/300 [25:05<31:49, 11.93s/it]"
     ]
    },
    {
     "name": "stdout",
     "output_type": "stream",
     "text": [
      "Iteration 140: Training MSE Regres Boost = 0.1663031321498008\n",
      "Iteration 140: Validation MSE Regres Boost = 0.1780429760064252\n"
     ]
    },
    {
     "name": "stderr",
     "output_type": "stream",
     "text": [
      " 47%|█████████████████████████████████████▌                                          | 141/300 [25:17<31:48, 12.00s/it]"
     ]
    },
    {
     "name": "stdout",
     "output_type": "stream",
     "text": [
      "Iteration 141: Training MSE Regres Boost = 0.167976280059162\n",
      "Iteration 141: Validation MSE Regres Boost = 0.18000452412004309\n"
     ]
    },
    {
     "name": "stderr",
     "output_type": "stream",
     "text": [
      " 47%|█████████████████████████████████████▊                                          | 142/300 [25:29<31:12, 11.85s/it]"
     ]
    },
    {
     "name": "stdout",
     "output_type": "stream",
     "text": [
      "Iteration 142: Training MSE Regres Boost = 0.16976860567280086\n",
      "Iteration 142: Validation MSE Regres Boost = 0.1820881208981035\n"
     ]
    },
    {
     "name": "stderr",
     "output_type": "stream",
     "text": [
      " 48%|██████████████████████████████████████▏                                         | 143/300 [25:40<30:43, 11.75s/it]"
     ]
    },
    {
     "name": "stdout",
     "output_type": "stream",
     "text": [
      "Iteration 143: Training MSE Regres Boost = 0.1715420117912733\n",
      "Iteration 143: Validation MSE Regres Boost = 0.18414970914699372\n"
     ]
    },
    {
     "name": "stderr",
     "output_type": "stream",
     "text": [
      " 48%|██████████████████████████████████████▍                                         | 144/300 [25:52<30:14, 11.63s/it]"
     ]
    },
    {
     "name": "stdout",
     "output_type": "stream",
     "text": [
      "Iteration 144: Training MSE Regres Boost = 0.1734344229787261\n",
      "Iteration 144: Validation MSE Regres Boost = 0.18633331787855195\n"
     ]
    },
    {
     "name": "stderr",
     "output_type": "stream",
     "text": [
      " 48%|██████████████████████████████████████▋                                         | 145/300 [26:04<30:07, 11.66s/it]"
     ]
    },
    {
     "name": "stdout",
     "output_type": "stream",
     "text": [
      "Iteration 145: Training MSE Regres Boost = 0.17530808730630984\n",
      "Iteration 145: Validation MSE Regres Boost = 0.1884949462627144\n"
     ]
    },
    {
     "name": "stderr",
     "output_type": "stream",
     "text": [
      " 49%|██████████████████████████████████████▉                                         | 146/300 [26:15<29:53, 11.65s/it]"
     ]
    },
    {
     "name": "stdout",
     "output_type": "stream",
     "text": [
      "Iteration 146: Training MSE Regres Boost = 0.17730058406757665\n",
      "Iteration 146: Validation MSE Regres Boost = 0.19077856694777026\n"
     ]
    },
    {
     "name": "stderr",
     "output_type": "stream",
     "text": [
      " 49%|███████████████████████████████████████▏                                        | 147/300 [26:27<29:36, 11.61s/it]"
     ]
    },
    {
     "name": "stdout",
     "output_type": "stream",
     "text": [
      "Iteration 147: Training MSE Regres Boost = 0.1792745066042716\n",
      "Iteration 147: Validation MSE Regres Boost = 0.193040235467205\n"
     ]
    },
    {
     "name": "stderr",
     "output_type": "stream",
     "text": [
      " 49%|███████████████████████████████████████▍                                        | 148/300 [26:38<29:23, 11.60s/it]"
     ]
    },
    {
     "name": "stdout",
     "output_type": "stream",
     "text": [
      "Iteration 148: Training MSE Regres Boost = 0.1813670889393524\n",
      "Iteration 148: Validation MSE Regres Boost = 0.1954238681057585\n"
     ]
    },
    {
     "name": "stderr",
     "output_type": "stream",
     "text": [
      " 50%|███████████████████████████████████████▋                                        | 149/300 [26:50<29:24, 11.69s/it]"
     ]
    },
    {
     "name": "stdout",
     "output_type": "stream",
     "text": [
      "Iteration 149: Training MSE Regres Boost = 0.1834412696851587\n",
      "Iteration 149: Validation MSE Regres Boost = 0.19778557676046557\n"
     ]
    },
    {
     "name": "stderr",
     "output_type": "stream",
     "text": [
      " 50%|████████████████████████████████████████                                        | 150/300 [27:02<29:01, 11.61s/it]"
     ]
    },
    {
     "name": "stdout",
     "output_type": "stream",
     "text": [
      "Iteration 150: Training MSE Regres Boost = 0.1856339375940534\n",
      "Iteration 150: Validation MSE Regres Boost = 0.20026922135251676\n"
     ]
    },
    {
     "name": "stderr",
     "output_type": "stream",
     "text": [
      " 50%|████████████████████████████████████████▎                                       | 151/300 [27:13<28:33, 11.50s/it]"
     ]
    },
    {
     "name": "stdout",
     "output_type": "stream",
     "text": [
      "Iteration 151: Training MSE Regres Boost = 0.18780837654897092\n",
      "Iteration 151: Validation MSE Regres Boost = 0.202730970142496\n"
     ]
    },
    {
     "name": "stderr",
     "output_type": "stream",
     "text": [
      " 51%|████████████████████████████████████████▌                                       | 152/300 [27:24<28:27, 11.54s/it]"
     ]
    },
    {
     "name": "stdout",
     "output_type": "stream",
     "text": [
      "Iteration 152: Training MSE Regres Boost = 0.19010113003167964\n",
      "Iteration 152: Validation MSE Regres Boost = 0.20531462668804484\n"
     ]
    },
    {
     "name": "stderr",
     "output_type": "stream",
     "text": [
      " 51%|████████████████████████████████████████▊                                       | 153/300 [27:36<28:28, 11.62s/it]"
     ]
    },
    {
     "name": "stdout",
     "output_type": "stream",
     "text": [
      "Iteration 153: Training MSE Regres Boost = 0.19237582719570848\n",
      "Iteration 153: Validation MSE Regres Boost = 0.2078764156132964\n"
     ]
    },
    {
     "name": "stderr",
     "output_type": "stream",
     "text": [
      " 51%|█████████████████████████████████████████                                       | 154/300 [27:48<28:21, 11.65s/it]"
     ]
    },
    {
     "name": "stdout",
     "output_type": "stream",
     "text": [
      "Iteration 154: Training MSE Regres Boost = 0.1947686662522312\n",
      "Iteration 154: Validation MSE Regres Boost = 0.21056008411234292\n"
     ]
    },
    {
     "name": "stderr",
     "output_type": "stream",
     "text": [
      " 52%|█████████████████████████████████████████▎                                      | 155/300 [28:00<28:03, 11.61s/it]"
     ]
    },
    {
     "name": "stdout",
     "output_type": "stream",
     "text": [
      "Iteration 155: Training MSE Regres Boost = 0.1971436216253713\n",
      "Iteration 155: Validation MSE Regres Boost = 0.21322191317286684\n"
     ]
    },
    {
     "name": "stderr",
     "output_type": "stream",
     "text": [
      " 52%|█████████████████████████████████████████▌                                      | 156/300 [28:11<27:57, 11.65s/it]"
     ]
    },
    {
     "name": "stdout",
     "output_type": "stream",
     "text": [
      "Iteration 156: Training MSE Regres Boost = 0.199636546255708\n",
      "Iteration 156: Validation MSE Regres Boost = 0.21600559362541089\n"
     ]
    },
    {
     "name": "stderr",
     "output_type": "stream",
     "text": [
      " 52%|█████████████████████████████████████████▊                                      | 157/300 [28:23<27:30, 11.54s/it]"
     ]
    },
    {
     "name": "stdout",
     "output_type": "stream",
     "text": [
      "Iteration 157: Training MSE Regres Boost = 0.20211175983795937\n",
      "Iteration 157: Validation MSE Regres Boost = 0.21876746282120713\n"
     ]
    },
    {
     "name": "stderr",
     "output_type": "stream",
     "text": [
      " 53%|██████████████████████████████████████████▏                                     | 158/300 [28:35<27:36, 11.67s/it]"
     ]
    },
    {
     "name": "stdout",
     "output_type": "stream",
     "text": [
      "Iteration 158: Training MSE Regres Boost = 0.20470477004211002\n",
      "Iteration 158: Validation MSE Regres Boost = 0.22165115522724899\n"
     ]
    },
    {
     "name": "stderr",
     "output_type": "stream",
     "text": [
      " 53%|██████████████████████████████████████████▍                                     | 159/300 [28:46<27:20, 11.64s/it]"
     ]
    },
    {
     "name": "stdout",
     "output_type": "stream",
     "text": [
      "Iteration 159: Training MSE Regres Boost = 0.20728024183347263\n",
      "Iteration 159: Validation MSE Regres Boost = 0.22451306455831724\n"
     ]
    },
    {
     "name": "stderr",
     "output_type": "stream",
     "text": [
      " 53%|██████████████████████████████████████████▋                                     | 160/300 [28:58<27:06, 11.62s/it]"
     ]
    },
    {
     "name": "stdout",
     "output_type": "stream",
     "text": [
      "Iteration 160: Training MSE Regres Boost = 0.2099733376114373\n",
      "Iteration 160: Validation MSE Regres Boost = 0.22749676891785678\n"
     ]
    },
    {
     "name": "stderr",
     "output_type": "stream",
     "text": [
      " 54%|██████████████████████████████████████████▉                                     | 161/300 [29:10<27:46, 11.99s/it]"
     ]
    },
    {
     "name": "stdout",
     "output_type": "stream",
     "text": [
      "Iteration 161: Training MSE Regres Boost = 0.21264906761191119\n",
      "Iteration 161: Validation MSE Regres Boost = 0.2304587183841975\n"
     ]
    },
    {
     "name": "stderr",
     "output_type": "stream",
     "text": [
      " 54%|███████████████████████████████████████████▏                                    | 162/300 [29:23<27:48, 12.09s/it]"
     ]
    },
    {
     "name": "stdout",
     "output_type": "stream",
     "text": [
      "Iteration 162: Training MSE Regres Boost = 0.21544224896368974\n",
      "Iteration 162: Validation MSE Regres Boost = 0.23354243469723457\n"
     ]
    },
    {
     "name": "stderr",
     "output_type": "stream",
     "text": [
      " 54%|███████████████████████████████████████████▍                                    | 163/300 [29:35<27:32, 12.06s/it]"
     ]
    },
    {
     "name": "stdout",
     "output_type": "stream",
     "text": [
      "Iteration 163: Training MSE Regres Boost = 0.218218237173275\n",
      "Iteration 163: Validation MSE Regres Boost = 0.23660442429884762\n"
     ]
    },
    {
     "name": "stderr",
     "output_type": "stream",
     "text": [
      " 55%|███████████████████████████████████████████▋                                    | 164/300 [29:46<26:59, 11.91s/it]"
     ]
    },
    {
     "name": "stdout",
     "output_type": "stream",
     "text": [
      "Iteration 164: Training MSE Regres Boost = 0.2211115040988676\n",
      "Iteration 164: Validation MSE Regres Boost = 0.23978815256538238\n"
     ]
    },
    {
     "name": "stderr",
     "output_type": "stream",
     "text": [
      " 55%|████████████████████████████████████████████                                    | 165/300 [29:58<26:34, 11.81s/it]"
     ]
    },
    {
     "name": "stdout",
     "output_type": "stream",
     "text": [
      "Iteration 165: Training MSE Regres Boost = 0.223987750517564\n",
      "Iteration 165: Validation MSE Regres Boost = 0.24295018230226761\n"
     ]
    },
    {
     "name": "stderr",
     "output_type": "stream",
     "text": [
      " 55%|████████████████████████████████████████████▎                                   | 166/300 [30:09<26:10, 11.72s/it]"
     ]
    },
    {
     "name": "stdout",
     "output_type": "stream",
     "text": [
      "Iteration 166: Training MSE Regres Boost = 0.22698110301697064\n",
      "Iteration 166: Validation MSE Regres Boost = 0.24623392252230017\n"
     ]
    },
    {
     "name": "stderr",
     "output_type": "stream",
     "text": [
      " 56%|████████████████████████████████████████████▌                                   | 167/300 [30:21<25:43, 11.60s/it]"
     ]
    },
    {
     "name": "stdout",
     "output_type": "stream",
     "text": [
      "Iteration 167: Training MSE Regres Boost = 0.22995760764477835\n",
      "Iteration 167: Validation MSE Regres Boost = 0.2494959923944577\n"
     ]
    },
    {
     "name": "stderr",
     "output_type": "stream",
     "text": [
      " 56%|████████████████████████████████████████████▊                                   | 168/300 [30:32<25:31, 11.60s/it]"
     ]
    },
    {
     "name": "stdout",
     "output_type": "stream",
     "text": [
      "Iteration 168: Training MSE Regres Boost = 0.23305104571799895\n",
      "Iteration 168: Validation MSE Regres Boost = 0.2528797445679879\n"
     ]
    },
    {
     "name": "stderr",
     "output_type": "stream",
     "text": [
      " 56%|█████████████████████████████████████████████                                   | 169/300 [30:44<25:19, 11.60s/it]"
     ]
    },
    {
     "name": "stdout",
     "output_type": "stream",
     "text": [
      "Iteration 169: Training MSE Regres Boost = 0.23612780855491788\n",
      "Iteration 169: Validation MSE Regres Boost = 0.2562418545754176\n"
     ]
    },
    {
     "name": "stderr",
     "output_type": "stream",
     "text": [
      " 57%|█████████████████████████████████████████████▎                                  | 170/300 [30:56<25:10, 11.62s/it]"
     ]
    },
    {
     "name": "stdout",
     "output_type": "stream",
     "text": [
      "Iteration 170: Training MSE Regres Boost = 0.23932133220195242\n",
      "Iteration 170: Validation MSE Regres Boost = 0.2597256187024454\n"
     ]
    },
    {
     "name": "stderr",
     "output_type": "stream",
     "text": [
      " 57%|█████████████████████████████████████████████▌                                  | 171/300 [31:08<25:09, 11.70s/it]"
     ]
    },
    {
     "name": "stdout",
     "output_type": "stream",
     "text": [
      "Iteration 171: Training MSE Regres Boost = 0.24249835324798263\n",
      "Iteration 171: Validation MSE Regres Boost = 0.2631877688451475\n"
     ]
    },
    {
     "name": "stderr",
     "output_type": "stream",
     "text": [
      " 57%|█████████████████████████████████████████████▊                                  | 172/300 [31:20<25:07, 11.78s/it]"
     ]
    },
    {
     "name": "stdout",
     "output_type": "stream",
     "text": [
      "Iteration 172: Training MSE Regres Boost = 0.24579196246883123\n",
      "Iteration 172: Validation MSE Regres Boost = 0.26677154492567307\n"
     ]
    },
    {
     "name": "stderr",
     "output_type": "stream",
     "text": [
      " 58%|██████████████████████████████████████████████▏                                 | 173/300 [31:31<24:39, 11.65s/it]"
     ]
    },
    {
     "name": "stdout",
     "output_type": "stream",
     "text": [
      "Iteration 173: Training MSE Regres Boost = 0.24906924172397277\n",
      "Iteration 173: Validation MSE Regres Boost = 0.27033373520364734\n"
     ]
    },
    {
     "name": "stderr",
     "output_type": "stream",
     "text": [
      " 58%|██████████████████████████████████████████████▍                                 | 174/300 [31:43<24:46, 11.80s/it]"
     ]
    },
    {
     "name": "stdout",
     "output_type": "stream",
     "text": [
      "Iteration 174: Training MSE Regres Boost = 0.2524629365186352\n",
      "Iteration 174: Validation MSE Regres Boost = 0.27401752323767037\n"
     ]
    },
    {
     "name": "stderr",
     "output_type": "stream",
     "text": [
      " 58%|██████████████████████████████████████████████▋                                 | 175/300 [31:56<25:02, 12.02s/it]"
     ]
    },
    {
     "name": "stdout",
     "output_type": "stream",
     "text": [
      "Iteration 175: Training MSE Regres Boost = 0.2558404739828881\n",
      "Iteration 175: Validation MSE Regres Boost = 0.2776797536509172\n"
     ]
    },
    {
     "name": "stderr",
     "output_type": "stream",
     "text": [
      " 59%|██████████████████████████████████████████████▉                                 | 176/300 [32:08<25:21, 12.27s/it]"
     ]
    },
    {
     "name": "stdout",
     "output_type": "stream",
     "text": [
      "Iteration 176: Training MSE Regres Boost = 0.25933425435136453\n",
      "Iteration 176: Validation MSE Regres Boost = 0.28146355363843784\n"
     ]
    },
    {
     "name": "stderr",
     "output_type": "stream",
     "text": [
      " 59%|███████████████████████████████████████████████▏                                | 177/300 [32:21<25:16, 12.33s/it]"
     ]
    },
    {
     "name": "stdout",
     "output_type": "stream",
     "text": [
      "Iteration 177: Training MSE Regres Boost = 0.2628120500247286\n",
      "Iteration 177: Validation MSE Regres Boost = 0.2852258241869568\n"
     ]
    },
    {
     "name": "stderr",
     "output_type": "stream",
     "text": [
      " 59%|███████████████████████████████████████████████▍                                | 178/300 [32:33<25:10, 12.38s/it]"
     ]
    },
    {
     "name": "stdout",
     "output_type": "stream",
     "text": [
      "Iteration 178: Training MSE Regres Boost = 0.26640591596701907\n",
      "Iteration 178: Validation MSE Regres Boost = 0.28910963612797536\n"
     ]
    },
    {
     "name": "stderr",
     "output_type": "stream",
     "text": [
      " 60%|███████████████████████████████████████████████▋                                | 179/300 [32:46<25:07, 12.46s/it]"
     ]
    },
    {
     "name": "stdout",
     "output_type": "stream",
     "text": [
      "Iteration 179: Training MSE Regres Boost = 0.2699839698494944\n",
      "Iteration 179: Validation MSE Regres Boost = 0.29297194681176647\n"
     ]
    },
    {
     "name": "stderr",
     "output_type": "stream",
     "text": [
      " 60%|████████████████████████████████████████████████                                | 180/300 [32:59<24:58, 12.48s/it]"
     ]
    },
    {
     "name": "stdout",
     "output_type": "stream",
     "text": [
      "Iteration 180: Training MSE Regres Boost = 0.27367792136559893\n",
      "Iteration 180: Validation MSE Regres Boost = 0.2969557707062827\n"
     ]
    },
    {
     "name": "stderr",
     "output_type": "stream",
     "text": [
      " 60%|████████████████████████████████████████████████▎                               | 181/300 [33:11<24:54, 12.56s/it]"
     ]
    },
    {
     "name": "stdout",
     "output_type": "stream",
     "text": [
      "Iteration 181: Training MSE Regres Boost = 0.27735623345718546\n",
      "Iteration 181: Validation MSE Regres Boost = 0.3009181215253462\n"
     ]
    },
    {
     "name": "stderr",
     "output_type": "stream",
     "text": [
      " 61%|████████████████████████████████████████████████▌                               | 182/300 [33:24<24:53, 12.66s/it]"
     ]
    },
    {
     "name": "stdout",
     "output_type": "stream",
     "text": [
      "Iteration 182: Training MSE Regres Boost = 0.2811502705471039\n",
      "Iteration 182: Validation MSE Regres Boost = 0.3050019573733599\n"
     ]
    },
    {
     "name": "stderr",
     "output_type": "stream",
     "text": [
      " 61%|████████████████████████████████████████████████▊                               | 183/300 [33:37<24:41, 12.67s/it]"
     ]
    },
    {
     "name": "stdout",
     "output_type": "stream",
     "text": [
      "Iteration 183: Training MSE Regres Boost = 0.28492884084780185\n",
      "Iteration 183: Validation MSE Regres Boost = 0.3090643483276957\n"
     ]
    },
    {
     "name": "stderr",
     "output_type": "stream",
     "text": [
      " 61%|█████████████████████████████████████████████████                               | 184/300 [33:49<24:21, 12.60s/it]"
     ]
    },
    {
     "name": "stdout",
     "output_type": "stream",
     "text": [
      "Iteration 184: Training MSE Regres Boost = 0.28882296351153414\n",
      "Iteration 184: Validation MSE Regres Boost = 0.31324819612920707\n"
     ]
    },
    {
     "name": "stderr",
     "output_type": "stream",
     "text": [
      " 62%|█████████████████████████████████████████████████▎                              | 185/300 [34:01<23:50, 12.44s/it]"
     ]
    },
    {
     "name": "stdout",
     "output_type": "stream",
     "text": [
      "Iteration 185: Training MSE Regres Boost = 0.29270179202134333\n",
      "Iteration 185: Validation MSE Regres Boost = 0.31741062721881513\n"
     ]
    },
    {
     "name": "stderr",
     "output_type": "stream",
     "text": [
      " 62%|█████████████████████████████████████████████████▌                              | 186/300 [34:14<23:32, 12.39s/it]"
     ]
    },
    {
     "name": "stdout",
     "output_type": "stream",
     "text": [
      "Iteration 186: Training MSE Regres Boost = 0.29669600025888965\n",
      "Iteration 186: Validation MSE Regres Boost = 0.3216944869738243\n"
     ]
    },
    {
     "name": "stderr",
     "output_type": "stream",
     "text": [
      " 62%|█████████████████████████████████████████████████▊                              | 187/300 [34:26<23:07, 12.28s/it]"
     ]
    },
    {
     "name": "stdout",
     "output_type": "stream",
     "text": [
      "Iteration 187: Training MSE Regres Boost = 0.3006750869778102\n",
      "Iteration 187: Validation MSE Regres Boost = 0.3259569581987047\n"
     ]
    },
    {
     "name": "stderr",
     "output_type": "stream",
     "text": [
      " 63%|██████████████████████████████████████████████████▏                             | 188/300 [34:38<22:58, 12.31s/it]"
     ]
    },
    {
     "name": "stdout",
     "output_type": "stream",
     "text": [
      "Iteration 188: Training MSE Regres Boost = 0.30476938078917043\n",
      "Iteration 188: Validation MSE Regres Boost = 0.3303408299072114\n"
     ]
    },
    {
     "name": "stderr",
     "output_type": "stream",
     "text": [
      " 63%|██████████████████████████████████████████████████▍                             | 189/300 [34:50<22:44, 12.30s/it]"
     ]
    },
    {
     "name": "stdout",
     "output_type": "stream",
     "text": [
      "Iteration 189: Training MSE Regres Boost = 0.3088487257172022\n",
      "Iteration 189: Validation MSE Regres Boost = 0.3347033412673639\n"
     ]
    },
    {
     "name": "stderr",
     "output_type": "stream",
     "text": [
      " 63%|██████████████████████████████████████████████████▋                             | 190/300 [35:03<22:30, 12.28s/it]"
     ]
    },
    {
     "name": "stdout",
     "output_type": "stream",
     "text": [
      "Iteration 190: Training MSE Regres Boost = 0.3130431051023766\n",
      "Iteration 190: Validation MSE Regres Boost = 0.33918722492936837\n"
     ]
    },
    {
     "name": "stderr",
     "output_type": "stream",
     "text": [
      " 64%|██████████████████████████████████████████████████▉                             | 191/300 [35:15<22:31, 12.40s/it]"
     ]
    },
    {
     "name": "stdout",
     "output_type": "stream",
     "text": [
      "Iteration 191: Training MSE Regres Boost = 0.3172227082395196\n",
      "Iteration 191: Validation MSE Regres Boost = 0.34364977642479333\n"
     ]
    },
    {
     "name": "stderr",
     "output_type": "stream",
     "text": [
      " 64%|███████████████████████████████████████████████████▏                            | 192/300 [35:28<22:22, 12.43s/it]"
     ]
    },
    {
     "name": "stdout",
     "output_type": "stream",
     "text": [
      "Iteration 192: Training MSE Regres Boost = 0.3215171731985079\n",
      "Iteration 192: Validation MSE Regres Boost = 0.34823367204029554\n"
     ]
    },
    {
     "name": "stderr",
     "output_type": "stream",
     "text": [
      " 64%|███████████████████████████████████████████████████▍                            | 193/300 [35:40<21:54, 12.28s/it]"
     ]
    },
    {
     "name": "stdout",
     "output_type": "stream",
     "text": [
      "Iteration 193: Training MSE Regres Boost = 0.3257970345447622\n",
      "Iteration 193: Validation MSE Regres Boost = 0.35279626367099254\n"
     ]
    },
    {
     "name": "stderr",
     "output_type": "stream",
     "text": [
      " 65%|███████████████████████████████████████████████████▋                            | 194/300 [35:52<21:29, 12.16s/it]"
     ]
    },
    {
     "name": "stdout",
     "output_type": "stream",
     "text": [
      "Iteration 194: Training MSE Regres Boost = 0.3301915850775644\n",
      "Iteration 194: Validation MSE Regres Boost = 0.35748017123999243\n"
     ]
    },
    {
     "name": "stderr",
     "output_type": "stream",
     "text": [
      " 65%|████████████████████████████████████████████████████                            | 195/300 [36:03<21:07, 12.08s/it]"
     ]
    },
    {
     "name": "stdout",
     "output_type": "stream",
     "text": [
      "Iteration 195: Training MSE Regres Boost = 0.33457170463293\n",
      "Iteration 195: Validation MSE Regres Boost = 0.3621428030059619\n"
     ]
    },
    {
     "name": "stderr",
     "output_type": "stream",
     "text": [
      " 65%|████████████████████████████████████████████████████▎                           | 196/300 [36:16<21:06, 12.18s/it]"
     ]
    },
    {
     "name": "stdout",
     "output_type": "stream",
     "text": [
      "Iteration 196: Training MSE Regres Boost = 0.33906634073954617\n",
      "Iteration 196: Validation MSE Regres Boost = 0.36692672252845926\n"
     ]
    },
    {
     "name": "stderr",
     "output_type": "stream",
     "text": [
      " 66%|████████████████████████████████████████████████████▌                           | 197/300 [36:28<20:40, 12.05s/it]"
     ]
    },
    {
     "name": "stdout",
     "output_type": "stream",
     "text": [
      "Iteration 197: Training MSE Regres Boost = 0.3435467185040231\n",
      "Iteration 197: Validation MSE Regres Boost = 0.37168939442970095\n"
     ]
    },
    {
     "name": "stderr",
     "output_type": "stream",
     "text": [
      " 66%|████████████████████████████████████████████████████▊                           | 198/300 [36:40<20:31, 12.08s/it]"
     ]
    },
    {
     "name": "stdout",
     "output_type": "stream",
     "text": [
      "Iteration 198: Training MSE Regres Boost = 0.3481414401844533\n",
      "Iteration 198: Validation MSE Regres Boost = 0.3765733259056961\n"
     ]
    },
    {
     "name": "stderr",
     "output_type": "stream",
     "text": [
      " 66%|█████████████████████████████████████████████████████                           | 199/300 [36:52<20:18, 12.07s/it]"
     ]
    },
    {
     "name": "stdout",
     "output_type": "stream",
     "text": [
      "Iteration 199: Training MSE Regres Boost = 0.3527220761580415\n",
      "Iteration 199: Validation MSE Regres Boost = 0.3814360379422102\n"
     ]
    },
    {
     "name": "stderr",
     "output_type": "stream",
     "text": [
      " 67%|█████████████████████████████████████████████████████▎                          | 200/300 [37:04<19:56, 11.97s/it]"
     ]
    },
    {
     "name": "stdout",
     "output_type": "stream",
     "text": [
      "Iteration 200: Training MSE Regres Boost = 0.35741688341228556\n",
      "Iteration 200: Validation MSE Regres Boost = 0.3864199813717028\n"
     ]
    },
    {
     "name": "stderr",
     "output_type": "stream",
     "text": [
      " 67%|█████████████████████████████████████████████████████▌                          | 201/300 [37:16<19:47, 11.99s/it]"
     ]
    },
    {
     "name": "stdout",
     "output_type": "stream",
     "text": [
      "Iteration 201: Training MSE Regres Boost = 0.36209777759498507\n",
      "Iteration 201: Validation MSE Regres Boost = 0.3913827335434892\n"
     ]
    },
    {
     "name": "stderr",
     "output_type": "stream",
     "text": [
      " 67%|█████████████████████████████████████████████████████▊                          | 202/300 [37:28<19:38, 12.02s/it]"
     ]
    },
    {
     "name": "stdout",
     "output_type": "stream",
     "text": [
      "Iteration 202: Training MSE Regres Boost = 0.3668926704230432\n",
      "Iteration 202: Validation MSE Regres Boost = 0.3964666889264797\n"
     ]
    },
    {
     "name": "stderr",
     "output_type": "stream",
     "text": [
      " 68%|██████████████████████████████████████████████████████▏                         | 203/300 [37:40<19:25, 12.01s/it]"
     ]
    },
    {
     "name": "stdout",
     "output_type": "stream",
     "text": [
      "Iteration 203: Training MSE Regres Boost = 0.3716738228148539\n",
      "Iteration 203: Validation MSE Regres Boost = 0.40152948123353827\n"
     ]
    },
    {
     "name": "stderr",
     "output_type": "stream",
     "text": [
      " 68%|██████████████████████████████████████████████████████▍                         | 204/300 [37:52<19:13, 12.02s/it]"
     ]
    },
    {
     "name": "stdout",
     "output_type": "stream",
     "text": [
      "Iteration 204: Training MSE Regres Boost = 0.3765688012167259\n",
      "Iteration 204: Validation MSE Regres Boost = 0.40671344857002606\n"
     ]
    },
    {
     "name": "stderr",
     "output_type": "stream",
     "text": [
      " 68%|██████████████████████████████████████████████████████▋                         | 205/300 [38:03<18:56, 11.96s/it]"
     ]
    },
    {
     "name": "stdout",
     "output_type": "stream",
     "text": [
      "Iteration 205: Training MSE Regres Boost = 0.3814502118176479\n",
      "Iteration 205: Validation MSE Regres Boost = 0.4118762810123569\n"
     ]
    },
    {
     "name": "stderr",
     "output_type": "stream",
     "text": [
      " 69%|██████████████████████████████████████████████████████▉                         | 206/300 [38:15<18:40, 11.92s/it]"
     ]
    },
    {
     "name": "stdout",
     "output_type": "stream",
     "text": [
      "Iteration 206: Training MSE Regres Boost = 0.38644527579333404\n",
      "Iteration 206: Validation MSE Regres Boost = 0.4171602603023427\n"
     ]
    },
    {
     "name": "stderr",
     "output_type": "stream",
     "text": [
      " 69%|███████████████████████████████████████████████████████▏                        | 207/300 [38:27<18:27, 11.91s/it]"
     ]
    },
    {
     "name": "stdout",
     "output_type": "stream",
     "text": [
      "Iteration 207: Training MSE Regres Boost = 0.39142694460336735\n",
      "Iteration 207: Validation MSE Regres Boost = 0.4224231328799458\n"
     ]
    },
    {
     "name": "stderr",
     "output_type": "stream",
     "text": [
      " 69%|███████████████████████████████████████████████████████▍                        | 208/300 [38:39<18:20, 11.96s/it]"
     ]
    },
    {
     "name": "stdout",
     "output_type": "stream",
     "text": [
      "Iteration 208: Training MSE Regres Boost = 0.3965220941528673\n",
      "Iteration 208: Validation MSE Regres Boost = 0.4278071241234293\n"
     ]
    },
    {
     "name": "stderr",
     "output_type": "stream",
     "text": [
      " 70%|███████████████████████████████████████████████████████▋                        | 209/300 [38:51<18:07, 11.95s/it]"
     ]
    },
    {
     "name": "stdout",
     "output_type": "stream",
     "text": [
      "Iteration 209: Training MSE Regres Boost = 0.4016040211720119\n",
      "Iteration 209: Validation MSE Regres Boost = 0.4331700368363046\n"
     ]
    },
    {
     "name": "stderr",
     "output_type": "stream",
     "text": [
      " 70%|████████████████████████████████████████████████████████                        | 210/300 [39:03<18:01, 12.02s/it]"
     ]
    },
    {
     "name": "stdout",
     "output_type": "stream",
     "text": [
      "Iteration 210: Training MSE Regres Boost = 0.406799256295326\n",
      "Iteration 210: Validation MSE Regres Boost = 0.4386540400332857\n",
      "Iteration 211: Training MSE Regres Boost = 0.4119814415235816\n"
     ]
    },
    {
     "name": "stderr",
     "output_type": "stream",
     "text": [
      " 70%|████████████████████████████████████████████████████████▎                       | 211/300 [39:15<17:46, 11.98s/it]"
     ]
    },
    {
     "name": "stdout",
     "output_type": "stream",
     "text": [
      "Iteration 211: Validation MSE Regres Boost = 0.4441169928814335\n",
      "Iteration 212: Training MSE Regres Boost = 0.41727676222070975\n",
      "Iteration 212: Validation MSE Regres Boost = 0.4497010080319121\n"
     ]
    },
    {
     "name": "stderr",
     "output_type": "stream",
     "text": [
      " 71%|████████████████████████████████████████████████████████▊                       | 213/300 [39:39<17:22, 11.98s/it]"
     ]
    },
    {
     "name": "stdout",
     "output_type": "stream",
     "text": [
      "Iteration 213: Training MSE Regres Boost = 0.4225592056580767\n",
      "Iteration 213: Validation MSE Regres Boost = 0.4552640010153323\n",
      "Iteration 214: Training MSE Regres Boost = 0.42795461192901874\n"
     ]
    },
    {
     "name": "stderr",
     "output_type": "stream",
     "text": [
      " 71%|█████████████████████████████████████████████████████████                       | 214/300 [39:51<17:15, 12.05s/it]"
     ]
    },
    {
     "name": "stdout",
     "output_type": "stream",
     "text": [
      "Iteration 214: Validation MSE Regres Boost = 0.4609480281193085\n",
      "Iteration 215: Training MSE Regres Boost = 0.43333731357549704\n"
     ]
    },
    {
     "name": "stderr",
     "output_type": "stream",
     "text": [
      " 72%|█████████████████████████████████████████████████████████▎                      | 215/300 [40:04<17:04, 12.05s/it]"
     ]
    },
    {
     "name": "stdout",
     "output_type": "stream",
     "text": [
      "Iteration 215: Validation MSE Regres Boost = 0.466611061238001\n"
     ]
    },
    {
     "name": "stderr",
     "output_type": "stream",
     "text": [
      " 72%|█████████████████████████████████████████████████████████▌                      | 216/300 [40:16<16:50, 12.03s/it]"
     ]
    },
    {
     "name": "stdout",
     "output_type": "stream",
     "text": [
      "Iteration 216: Training MSE Regres Boost = 0.43883280542025305\n",
      "Iteration 216: Validation MSE Regres Boost = 0.4723951002954747\n",
      "Iteration 217: Training MSE Regres Boost = 0.4443157652758427\n"
     ]
    },
    {
     "name": "stderr",
     "output_type": "stream",
     "text": [
      " 72%|█████████████████████████████████████████████████████████▊                      | 217/300 [40:28<16:39, 12.04s/it]"
     ]
    },
    {
     "name": "stdout",
     "output_type": "stream",
     "text": [
      "Iteration 217: Validation MSE Regres Boost = 0.4781581735494394\n",
      "Iteration 218: Training MSE Regres Boost = 0.44991134269441263\n"
     ]
    },
    {
     "name": "stderr",
     "output_type": "stream",
     "text": [
      " 73%|██████████████████████████████████████████████████████████▏                     | 218/300 [40:39<16:19, 11.95s/it]"
     ]
    },
    {
     "name": "stdout",
     "output_type": "stream",
     "text": [
      "Iteration 218: Validation MSE Regres Boost = 0.48404222456041096\n"
     ]
    },
    {
     "name": "stderr",
     "output_type": "stream",
     "text": [
      " 73%|██████████████████████████████████████████████████████████▍                     | 219/300 [40:51<16:10, 11.98s/it]"
     ]
    },
    {
     "name": "stdout",
     "output_type": "stream",
     "text": [
      "Iteration 219: Training MSE Regres Boost = 0.4554945607591134\n",
      "Iteration 219: Validation MSE Regres Boost = 0.48990533794964786\n"
     ]
    },
    {
     "name": "stderr",
     "output_type": "stream",
     "text": [
      " 73%|██████████████████████████████████████████████████████████▋                     | 220/300 [41:03<16:02, 12.03s/it]"
     ]
    },
    {
     "name": "stdout",
     "output_type": "stream",
     "text": [
      "Iteration 220: Training MSE Regres Boost = 0.46119022375149743\n",
      "Iteration 220: Validation MSE Regres Boost = 0.4958894009141172\n"
     ]
    },
    {
     "name": "stderr",
     "output_type": "stream",
     "text": [
      " 74%|██████████████████████████████████████████████████████████▉                     | 221/300 [41:16<15:58, 12.14s/it]"
     ]
    },
    {
     "name": "stdout",
     "output_type": "stream",
     "text": [
      "Iteration 221: Training MSE Regres Boost = 0.46687370002530965\n",
      "Iteration 221: Validation MSE Regres Boost = 0.5018525544386265\n"
     ]
    },
    {
     "name": "stderr",
     "output_type": "stream",
     "text": [
      " 74%|███████████████████████████████████████████████████████████▏                    | 222/300 [41:28<15:47, 12.15s/it]"
     ]
    },
    {
     "name": "stdout",
     "output_type": "stream",
     "text": [
      "Iteration 222: Training MSE Regres Boost = 0.47266944859150756\n",
      "Iteration 222: Validation MSE Regres Boost = 0.5079366293565937\n",
      "Iteration 223: Training MSE Regres Boost = 0.4784531830744309\n"
     ]
    },
    {
     "name": "stderr",
     "output_type": "stream",
     "text": [
      " 74%|███████████████████████████████████████████████████████████▍                    | 223/300 [41:40<15:33, 12.13s/it]"
     ]
    },
    {
     "name": "stdout",
     "output_type": "stream",
     "text": [
      "Iteration 223: Validation MSE Regres Boost = 0.5139998230163748\n",
      "Iteration 224: Training MSE Regres Boost = 0.48434901721444273\n"
     ]
    },
    {
     "name": "stderr",
     "output_type": "stream",
     "text": [
      " 75%|███████████████████████████████████████████████████████████▋                    | 224/300 [41:52<15:16, 12.06s/it]"
     ]
    },
    {
     "name": "stdout",
     "output_type": "stream",
     "text": [
      "Iteration 224: Validation MSE Regres Boost = 0.5201839098878397\n"
     ]
    },
    {
     "name": "stderr",
     "output_type": "stream",
     "text": [
      " 75%|████████████████████████████████████████████████████████████                    | 225/300 [42:04<15:08, 12.12s/it]"
     ]
    },
    {
     "name": "stdout",
     "output_type": "stream",
     "text": [
      "Iteration 225: Training MSE Regres Boost = 0.49023300990647745\n",
      "Iteration 225: Validation MSE Regres Boost = 0.526347143682893\n"
     ]
    },
    {
     "name": "stderr",
     "output_type": "stream",
     "text": [
      " 75%|████████████████████████████████████████████████████████████▎                   | 226/300 [42:17<14:59, 12.15s/it]"
     ]
    },
    {
     "name": "stdout",
     "output_type": "stream",
     "text": [
      "Iteration 226: Training MSE Regres Boost = 0.49622892962030346\n",
      "Iteration 226: Validation MSE Regres Boost = 0.5326312425078555\n"
     ]
    },
    {
     "name": "stderr",
     "output_type": "stream",
     "text": [
      " 76%|████████████████████████████████████████████████████████████▌                   | 227/300 [42:29<14:49, 12.19s/it]"
     ]
    },
    {
     "name": "stdout",
     "output_type": "stream",
     "text": [
      "Iteration 227: Training MSE Regres Boost = 0.5022131805214494\n",
      "Iteration 227: Validation MSE Regres Boost = 0.5388945164381814\n"
     ]
    },
    {
     "name": "stderr",
     "output_type": "stream",
     "text": [
      " 76%|████████████████████████████████████████████████████████████▊                   | 228/300 [42:41<14:36, 12.17s/it]"
     ]
    },
    {
     "name": "stdout",
     "output_type": "stream",
     "text": [
      "Iteration 228: Training MSE Regres Boost = 0.5083091858090891\n",
      "Iteration 228: Validation MSE Regres Boost = 0.5452786272166417\n"
     ]
    },
    {
     "name": "stderr",
     "output_type": "stream",
     "text": [
      " 76%|█████████████████████████████████████████████████████████████                   | 229/300 [42:53<14:25, 12.19s/it]"
     ]
    },
    {
     "name": "stdout",
     "output_type": "stream",
     "text": [
      "Iteration 229: Training MSE Regres Boost = 0.5143936949193466\n",
      "Iteration 229: Validation MSE Regres Boost = 0.5516419412822398\n"
     ]
    },
    {
     "name": "stderr",
     "output_type": "stream",
     "text": [
      " 77%|█████████████████████████████████████████████████████████████▎                  | 230/300 [43:05<14:12, 12.18s/it]"
     ]
    },
    {
     "name": "stdout",
     "output_type": "stream",
     "text": [
      "Iteration 230: Training MSE Regres Boost = 0.5205897857808003\n",
      "Iteration 230: Validation MSE Regres Boost = 0.5581260640141977\n",
      "Iteration 231: Training MSE Regres Boost = 0.526774553100169\n"
     ]
    },
    {
     "name": "stderr",
     "output_type": "stream",
     "text": [
      " 77%|█████████████████████████████████████████████████████████████▌                  | 231/300 [43:17<13:54, 12.10s/it]"
     ]
    },
    {
     "name": "stdout",
     "output_type": "stream",
     "text": [
      "Iteration 231: Validation MSE Regres Boost = 0.564589418215068\n"
     ]
    },
    {
     "name": "stderr",
     "output_type": "stream",
     "text": [
      " 77%|█████████████████████████████████████████████████████████████▊                  | 232/300 [43:29<13:45, 12.14s/it]"
     ]
    },
    {
     "name": "stdout",
     "output_type": "stream",
     "text": [
      "Iteration 232: Training MSE Regres Boost = 0.5330707295354367\n",
      "Iteration 232: Validation MSE Regres Boost = 0.5711735529005232\n",
      "Iteration 233: Training MSE Regres Boost = 0.5393557550639164\n"
     ]
    },
    {
     "name": "stderr",
     "output_type": "stream",
     "text": [
      " 78%|██████████████████████████████████████████████████████████████▏                 | 233/300 [43:42<13:36, 12.19s/it]"
     ]
    },
    {
     "name": "stdout",
     "output_type": "stream",
     "text": [
      "Iteration 233: Validation MSE Regres Boost = 0.5777369472366662\n"
     ]
    },
    {
     "name": "stderr",
     "output_type": "stream",
     "text": [
      " 78%|██████████████████████████████████████████████████████████████▍                 | 234/300 [43:54<13:28, 12.25s/it]"
     ]
    },
    {
     "name": "stdout",
     "output_type": "stream",
     "text": [
      "Iteration 234: Training MSE Regres Boost = 0.5457520170729984\n",
      "Iteration 234: Validation MSE Regres Boost = 0.5844210938756192\n"
     ]
    },
    {
     "name": "stderr",
     "output_type": "stream",
     "text": [
      " 78%|██████████████████████████████████████████████████████████████▋                 | 235/300 [44:07<13:26, 12.41s/it]"
     ]
    },
    {
     "name": "stdout",
     "output_type": "stream",
     "text": [
      "Iteration 235: Training MSE Regres Boost = 0.5521373008105893\n",
      "Iteration 235: Validation MSE Regres Boost = 0.5910845283470342\n"
     ]
    },
    {
     "name": "stderr",
     "output_type": "stream",
     "text": [
      " 79%|██████████████████████████████████████████████████████████████▉                 | 236/300 [44:19<13:10, 12.35s/it]"
     ]
    },
    {
     "name": "stdout",
     "output_type": "stream",
     "text": [
      "Iteration 236: Training MSE Regres Boost = 0.5586336483934852\n",
      "Iteration 236: Validation MSE Regres Boost = 0.597868686939485\n",
      "Iteration 237: Training MSE Regres Boost = 0.5651191903401874\n"
     ]
    },
    {
     "name": "stderr",
     "output_type": "stream",
     "text": [
      " 79%|███████████████████████████████████████████████████████████████▏                | 237/300 [44:32<13:00, 12.40s/it]"
     ]
    },
    {
     "name": "stdout",
     "output_type": "stream",
     "text": [
      "Iteration 237: Validation MSE Regres Boost = 0.6046321615461722\n"
     ]
    },
    {
     "name": "stderr",
     "output_type": "stream",
     "text": [
      " 79%|███████████████████████████████████████████████████████████████▍                | 238/300 [44:44<12:43, 12.32s/it]"
     ]
    },
    {
     "name": "stdout",
     "output_type": "stream",
     "text": [
      "Iteration 238: Training MSE Regres Boost = 0.5717156234968971\n",
      "Iteration 238: Validation MSE Regres Boost = 0.6115163320921204\n"
     ]
    },
    {
     "name": "stderr",
     "output_type": "stream",
     "text": [
      " 80%|███████████████████████████████████████████████████████████████▋                | 239/300 [44:56<12:30, 12.31s/it]"
     ]
    },
    {
     "name": "stdout",
     "output_type": "stream",
     "text": [
      "Iteration 239: Training MSE Regres Boost = 0.5783014236527109\n",
      "Iteration 239: Validation MSE Regres Boost = 0.6183798468340802\n",
      "Iteration 240: Training MSE Regres Boost = 0.5849979423832345\n"
     ]
    },
    {
     "name": "stderr",
     "output_type": "stream",
     "text": [
      " 80%|████████████████████████████████████████████████████████████████                | 240/300 [45:08<12:15, 12.26s/it]"
     ]
    },
    {
     "name": "stdout",
     "output_type": "stream",
     "text": [
      "Iteration 240: Validation MSE Regres Boost = 0.6253640293335262\n"
     ]
    },
    {
     "name": "stderr",
     "output_type": "stream",
     "text": [
      " 80%|████████████████████████████████████████████████████████████████▎               | 241/300 [45:21<12:04, 12.28s/it]"
     ]
    },
    {
     "name": "stdout",
     "output_type": "stream",
     "text": [
      "Iteration 241: Training MSE Regres Boost = 0.5916840007481594\n",
      "Iteration 241: Validation MSE Regres Boost = 0.6323275842107579\n",
      "Iteration 242: Training MSE Regres Boost = 0.5984806050524972\n"
     ]
    },
    {
     "name": "stderr",
     "output_type": "stream",
     "text": [
      " 81%|████████████████████████████████████████████████████████████████▌               | 242/300 [45:33<11:49, 12.24s/it]"
     ]
    },
    {
     "name": "stdout",
     "output_type": "stream",
     "text": [
      "Iteration 242: Validation MSE Regres Boost = 0.6394117786637016\n",
      "Iteration 243: Training MSE Regres Boost = 0.6052669216265333\n"
     ]
    },
    {
     "name": "stderr",
     "output_type": "stream",
     "text": [
      " 81%|████████████████████████████████████████████████████████████████▊               | 243/300 [45:45<11:34, 12.19s/it]"
     ]
    },
    {
     "name": "stdout",
     "output_type": "stream",
     "text": [
      "Iteration 243: Validation MSE Regres Boost = 0.6464753736762057\n",
      "Iteration 244: Training MSE Regres Boost = 0.6121636115046849\n"
     ]
    },
    {
     "name": "stderr",
     "output_type": "stream",
     "text": [
      " 81%|█████████████████████████████████████████████████████████████████               | 244/300 [45:57<11:30, 12.33s/it]"
     ]
    },
    {
     "name": "stdout",
     "output_type": "stream",
     "text": [
      "Iteration 244: Validation MSE Regres Boost = 0.653659580082647\n",
      "Iteration 245: Training MSE Regres Boost = 0.6190501862878324\n"
     ]
    },
    {
     "name": "stderr",
     "output_type": "stream",
     "text": [
      " 82%|█████████████████████████████████████████████████████████████████▎              | 245/300 [46:10<11:20, 12.37s/it]"
     ]
    },
    {
     "name": "stdout",
     "output_type": "stream",
     "text": [
      "Iteration 245: Validation MSE Regres Boost = 0.6608232152304238\n",
      "Iteration 246: Training MSE Regres Boost = 0.6260469617397981\n"
     ]
    },
    {
     "name": "stderr",
     "output_type": "stream",
     "text": [
      " 82%|█████████████████████████████████████████████████████████████████▌              | 246/300 [46:22<11:08, 12.38s/it]"
     ]
    },
    {
     "name": "stdout",
     "output_type": "stream",
     "text": [
      "Iteration 246: Validation MSE Regres Boost = 0.6681074335903627\n",
      "Iteration 247: Training MSE Regres Boost = 0.6330337947320568\n"
     ]
    },
    {
     "name": "stderr",
     "output_type": "stream",
     "text": [
      " 82%|█████████████████████████████████████████████████████████████████▊              | 247/300 [46:35<10:59, 12.45s/it]"
     ]
    },
    {
     "name": "stdout",
     "output_type": "stream",
     "text": [
      "Iteration 247: Validation MSE Regres Boost = 0.6753711088734116\n",
      "Iteration 248: Training MSE Regres Boost = 0.6401306557578362\n"
     ]
    },
    {
     "name": "stderr",
     "output_type": "stream",
     "text": [
      " 83%|██████████████████████████████████████████████████████████████████▏             | 248/300 [46:47<10:46, 12.44s/it]"
     ]
    },
    {
     "name": "stdout",
     "output_type": "stream",
     "text": [
      "Iteration 248: Validation MSE Regres Boost = 0.6827553391868482\n",
      "Iteration 249: Training MSE Regres Boost = 0.6472177469592063\n"
     ]
    },
    {
     "name": "stderr",
     "output_type": "stream",
     "text": [
      " 83%|██████████████████████████████████████████████████████████████████▍             | 249/300 [47:00<10:35, 12.45s/it]"
     ]
    },
    {
     "name": "stdout",
     "output_type": "stream",
     "text": [
      "Iteration 249: Validation MSE Regres Boost = 0.6901190546051691\n",
      "Iteration 250: Training MSE Regres Boost = 0.6544146935587999\n"
     ]
    },
    {
     "name": "stderr",
     "output_type": "stream",
     "text": [
      " 83%|██████████████████████████████████████████████████████████████████▋             | 250/300 [47:12<10:19, 12.39s/it]"
     ]
    },
    {
     "name": "stdout",
     "output_type": "stream",
     "text": [
      "Iteration 250: Validation MSE Regres Boost = 0.6976032968721038\n",
      "Iteration 251: Training MSE Regres Boost = 0.661602042969281\n"
     ]
    },
    {
     "name": "stderr",
     "output_type": "stream",
     "text": [
      " 84%|██████████████████████████████████████████████████████████████████▉             | 251/300 [47:24<10:03, 12.32s/it]"
     ]
    },
    {
     "name": "stdout",
     "output_type": "stream",
     "text": [
      "Iteration 251: Validation MSE Regres Boost = 0.7050670524256966\n",
      "Iteration 252: Training MSE Regres Boost = 0.6688990751426889\n"
     ]
    },
    {
     "name": "stderr",
     "output_type": "stream",
     "text": [
      " 84%|███████████████████████████████████████████████████████████████████▏            | 252/300 [47:37<09:51, 12.33s/it]"
     ]
    },
    {
     "name": "stdout",
     "output_type": "stream",
     "text": [
      "Iteration 252: Validation MSE Regres Boost = 0.7126513066461287\n",
      "Iteration 253: Training MSE Regres Boost = 0.6761866827622814\n"
     ]
    },
    {
     "name": "stderr",
     "output_type": "stream",
     "text": [
      " 84%|███████████████████████████████████████████████████████████████████▍            | 253/300 [47:49<09:38, 12.31s/it]"
     ]
    },
    {
     "name": "stdout",
     "output_type": "stream",
     "text": [
      "Iteration 253: Validation MSE Regres Boost = 0.7202151023349943\n",
      "Iteration 254: Training MSE Regres Boost = 0.6835838005095028\n"
     ]
    },
    {
     "name": "stderr",
     "output_type": "stream",
     "text": [
      " 85%|███████████████████████████████████████████████████████████████████▋            | 254/300 [48:01<09:25, 12.30s/it]"
     ]
    },
    {
     "name": "stdout",
     "output_type": "stream",
     "text": [
      "Iteration 254: Validation MSE Regres Boost = 0.7278993685089239\n",
      "Iteration 255: Training MSE Regres Boost = 0.6909716663382067\n"
     ]
    },
    {
     "name": "stderr",
     "output_type": "stream",
     "text": [
      " 85%|████████████████████████████████████████████████████████████████████            | 255/300 [48:14<09:15, 12.34s/it]"
     ]
    },
    {
     "name": "stdout",
     "output_type": "stream",
     "text": [
      "Iteration 255: Validation MSE Regres Boost = 0.7355632043330619\n",
      "Iteration 256: Training MSE Regres Boost = 0.6984688696592424\n"
     ]
    },
    {
     "name": "stderr",
     "output_type": "stream",
     "text": [
      " 85%|████████████████████████████████████████████████████████████████████▎           | 256/300 [48:26<09:02, 12.33s/it]"
     ]
    },
    {
     "name": "stdout",
     "output_type": "stream",
     "text": [
      "Iteration 256: Validation MSE Regres Boost = 0.7433474824604893\n",
      "Iteration 257: Training MSE Regres Boost = 0.7059569936970572\n"
     ]
    },
    {
     "name": "stderr",
     "output_type": "stream",
     "text": [
      " 86%|████████████████████████████████████████████████████████████████████▌           | 257/300 [48:38<08:50, 12.34s/it]"
     ]
    },
    {
     "name": "stdout",
     "output_type": "stream",
     "text": [
      "Iteration 257: Validation MSE Regres Boost = 0.751111358419899\n",
      "Iteration 258: Training MSE Regres Boost = 0.7135542825919069\n"
     ]
    },
    {
     "name": "stderr",
     "output_type": "stream",
     "text": [
      " 86%|████████████████████████████████████████████████████████████████████▊           | 258/300 [48:51<08:41, 12.41s/it]"
     ]
    },
    {
     "name": "stdout",
     "output_type": "stream",
     "text": [
      "Iteration 258: Validation MSE Regres Boost = 0.7589956485008241\n",
      "Iteration 259: Training MSE Regres Boost = 0.7211426648388332\n"
     ]
    },
    {
     "name": "stderr",
     "output_type": "stream",
     "text": [
      " 86%|█████████████████████████████████████████████████████████████████████           | 259/300 [49:03<08:27, 12.39s/it]"
     ]
    },
    {
     "name": "stdout",
     "output_type": "stream",
     "text": [
      "Iteration 259: Validation MSE Regres Boost = 0.7668595645955065\n",
      "Iteration 260: Training MSE Regres Boost = 0.7288400393074966\n"
     ]
    },
    {
     "name": "stderr",
     "output_type": "stream",
     "text": [
      " 87%|█████████████████████████████████████████████████████████████████████▎          | 260/300 [49:16<08:15, 12.39s/it]"
     ]
    },
    {
     "name": "stdout",
     "output_type": "stream",
     "text": [
      "Iteration 260: Validation MSE Regres Boost = 0.7748438666299294\n",
      "Iteration 261: Training MSE Regres Boost = 0.7365286797635342\n"
     ]
    },
    {
     "name": "stderr",
     "output_type": "stream",
     "text": [
      " 87%|█████████████████████████████████████████████████████████████████████▌          | 261/300 [49:28<08:02, 12.38s/it]"
     ]
    },
    {
     "name": "stdout",
     "output_type": "stream",
     "text": [
      "Iteration 261: Validation MSE Regres Boost = 0.782807822859884\n",
      "Iteration 262: Training MSE Regres Boost = 0.7443261398060118\n"
     ]
    },
    {
     "name": "stderr",
     "output_type": "stream",
     "text": [
      " 87%|█████████████████████████████████████████████████████████████████████▊          | 262/300 [49:40<07:50, 12.39s/it]"
     ]
    },
    {
     "name": "stdout",
     "output_type": "stream",
     "text": [
      "Iteration 262: Validation MSE Regres Boost = 0.790892136847804\n",
      "Iteration 263: Training MSE Regres Boost = 0.7521150384711607\n"
     ]
    },
    {
     "name": "stderr",
     "output_type": "stream",
     "text": [
      " 88%|██████████████████████████████████████████████████████████████████████▏         | 263/300 [49:53<07:38, 12.39s/it]"
     ]
    },
    {
     "name": "stdout",
     "output_type": "stream",
     "text": [
      "Iteration 263: Validation MSE Regres Boost = 0.7989561332130312\n",
      "Iteration 264: Training MSE Regres Boost = 0.7600125840874523\n"
     ]
    },
    {
     "name": "stderr",
     "output_type": "stream",
     "text": [
      " 88%|██████████████████████████████████████████████████████████████████████▍         | 264/300 [50:05<07:24, 12.36s/it]"
     ]
    },
    {
     "name": "stdout",
     "output_type": "stream",
     "text": [
      "Iteration 264: Validation MSE Regres Boost = 0.8071404591544492\n",
      "Iteration 265: Training MSE Regres Boost = 0.7679017409617123\n"
     ]
    },
    {
     "name": "stderr",
     "output_type": "stream",
     "text": [
      " 88%|██████████████████████████████████████████████████████████████████████▋         | 265/300 [50:17<07:13, 12.37s/it]"
     ]
    },
    {
     "name": "stdout",
     "output_type": "stream",
     "text": [
      "Iteration 265: Validation MSE Regres Boost = 0.8153044956549484\n",
      "Iteration 266: Training MSE Regres Boost = 0.7758993721518178\n"
     ]
    },
    {
     "name": "stderr",
     "output_type": "stream",
     "text": [
      " 89%|██████████████████████████████████████████████████████████████████████▉         | 266/300 [50:30<07:01, 12.39s/it]"
     ]
    },
    {
     "name": "stdout",
     "output_type": "stream",
     "text": [
      "Iteration 266: Validation MSE Regres Boost = 0.8235888335498641\n",
      "Iteration 267: Training MSE Regres Boost = 0.7838887872351891\n"
     ]
    },
    {
     "name": "stderr",
     "output_type": "stream",
     "text": [
      " 89%|███████████████████████████████████████████████████████████████████████▏        | 267/300 [50:42<06:44, 12.26s/it]"
     ]
    },
    {
     "name": "stdout",
     "output_type": "stream",
     "text": [
      "Iteration 267: Validation MSE Regres Boost = 0.8318529101856356\n",
      "Iteration 268: Training MSE Regres Boost = 0.7919865039991085\n"
     ]
    },
    {
     "name": "stderr",
     "output_type": "stream",
     "text": [
      " 89%|███████████████████████████████████████████████████████████████████████▍        | 268/300 [50:54<06:34, 12.33s/it]"
     ]
    },
    {
     "name": "stdout",
     "output_type": "stream",
     "text": [
      "Iteration 268: Validation MSE Regres Boost = 0.8402372600340487\n",
      "Iteration 269: Training MSE Regres Boost = 0.8000761772915913\n"
     ]
    },
    {
     "name": "stderr",
     "output_type": "stream",
     "text": [
      " 90%|███████████████████████████████████████████████████████████████████████▋        | 269/300 [51:07<06:23, 12.38s/it]"
     ]
    },
    {
     "name": "stdout",
     "output_type": "stream",
     "text": [
      "Iteration 269: Validation MSE Regres Boost = 0.8486013768050927\n",
      "Iteration 270: Training MSE Regres Boost = 0.8082739796293247\n"
     ]
    },
    {
     "name": "stderr",
     "output_type": "stream",
     "text": [
      " 90%|████████████████████████████████████████████████████████████████████████        | 270/300 [51:19<06:13, 12.46s/it]"
     ]
    },
    {
     "name": "stdout",
     "output_type": "stream",
     "text": [
      "Iteration 270: Validation MSE Regres Boost = 0.8570857386070038\n",
      "Iteration 271: Training MSE Regres Boost = 0.8164639111309187\n"
     ]
    },
    {
     "name": "stderr",
     "output_type": "stream",
     "text": [
      " 90%|████████████████████████████████████████████████████████████████████████▎       | 271/300 [51:32<05:59, 12.41s/it]"
     ]
    },
    {
     "name": "stdout",
     "output_type": "stream",
     "text": [
      "Iteration 271: Validation MSE Regres Boost = 0.8655498955133196\n",
      "Iteration 272: Training MSE Regres Boost = 0.8247617990424659\n"
     ]
    },
    {
     "name": "stderr",
     "output_type": "stream",
     "text": [
      " 91%|████████████████████████████████████████████████████████████████████████▌       | 272/300 [51:44<05:47, 12.41s/it]"
     ]
    },
    {
     "name": "stdout",
     "output_type": "stream",
     "text": [
      "Iteration 272: Validation MSE Regres Boost = 0.8741342692687283\n",
      "Iteration 273: Training MSE Regres Boost = 0.8330519887531712\n"
     ]
    },
    {
     "name": "stderr",
     "output_type": "stream",
     "text": [
      " 91%|████████████████████████████████████████████████████████████████████████▊       | 273/300 [51:57<05:36, 12.48s/it]"
     ]
    },
    {
     "name": "stdout",
     "output_type": "stream",
     "text": [
      "Iteration 273: Validation MSE Regres Boost = 0.8826984663103166\n",
      "Iteration 274: Training MSE Regres Boost = 0.8414499622385326\n"
     ]
    },
    {
     "name": "stderr",
     "output_type": "stream",
     "text": [
      " 91%|█████████████████████████████████████████████████████████████████████████       | 274/300 [52:09<05:25, 12.51s/it]"
     ]
    },
    {
     "name": "stdout",
     "output_type": "stream",
     "text": [
      "Iteration 274: Validation MSE Regres Boost = 0.8913828520192232\n",
      "Iteration 275: Training MSE Regres Boost = 0.8498404101583493\n"
     ]
    },
    {
     "name": "stderr",
     "output_type": "stream",
     "text": [
      " 92%|█████████████████████████████████████████████████████████████████████████▎      | 275/300 [52:22<05:14, 12.56s/it]"
     ]
    },
    {
     "name": "stdout",
     "output_type": "stream",
     "text": [
      "Iteration 275: Validation MSE Regres Boost = 0.9000470891960837\n",
      "Iteration 276: Training MSE Regres Boost = 0.8583384692175247\n"
     ]
    },
    {
     "name": "stderr",
     "output_type": "stream",
     "text": [
      " 92%|█████████████████████████████████████████████████████████████████████████▌      | 276/300 [52:35<05:03, 12.63s/it]"
     ]
    },
    {
     "name": "stdout",
     "output_type": "stream",
     "text": [
      "Iteration 276: Validation MSE Regres Boost = 0.908831486858488\n",
      "Iteration 277: Training MSE Regres Boost = 0.8668291753464525\n"
     ]
    },
    {
     "name": "stderr",
     "output_type": "stream",
     "text": [
      " 92%|█████████████████████████████████████████████████████████████████████████▊      | 277/300 [52:47<04:49, 12.58s/it]"
     ]
    },
    {
     "name": "stdout",
     "output_type": "stream",
     "text": [
      "Iteration 277: Validation MSE Regres Boost = 0.9175957641706208\n",
      "Iteration 278: Training MSE Regres Boost = 0.8754273199794418\n"
     ]
    },
    {
     "name": "stderr",
     "output_type": "stream",
     "text": [
      " 93%|██████████████████████████████████████████████████████████████████████████▏     | 278/300 [53:00<04:36, 12.57s/it]"
     ]
    },
    {
     "name": "stdout",
     "output_type": "stream",
     "text": [
      "Iteration 278: Validation MSE Regres Boost = 0.9264801737865224\n",
      "Iteration 279: Training MSE Regres Boost = 0.8840182843174809\n"
     ]
    },
    {
     "name": "stderr",
     "output_type": "stream",
     "text": [
      " 93%|██████████████████████████████████████████████████████████████████████████▍     | 279/300 [53:12<04:23, 12.53s/it]"
     ]
    },
    {
     "name": "stdout",
     "output_type": "stream",
     "text": [
      "Iteration 279: Validation MSE Regres Boost = 0.9353444912339272\n",
      "Iteration 280: Training MSE Regres Boost = 0.892716514524284\n"
     ]
    },
    {
     "name": "stderr",
     "output_type": "stream",
     "text": [
      " 93%|██████████████████████████████████████████████████████████████████████████▋     | 280/300 [53:25<04:11, 12.57s/it]"
     ]
    },
    {
     "name": "stdout",
     "output_type": "stream",
     "text": [
      "Iteration 280: Validation MSE Regres Boost = 0.944328912803327\n",
      "Iteration 281: Training MSE Regres Boost = 0.9014077370714345\n"
     ]
    },
    {
     "name": "stderr",
     "output_type": "stream",
     "text": [
      " 94%|██████████████████████████████████████████████████████████████████████████▉     | 281/300 [53:37<03:58, 12.55s/it]"
     ]
    },
    {
     "name": "stdout",
     "output_type": "stream",
     "text": [
      "Iteration 281: Validation MSE Regres Boost = 0.9532932703860043\n",
      "Iteration 282: Training MSE Regres Boost = 0.9102060528520515\n"
     ]
    },
    {
     "name": "stderr",
     "output_type": "stream",
     "text": [
      " 94%|███████████████████████████████████████████████████████████████████████████▏    | 282/300 [53:50<03:46, 12.60s/it]"
     ]
    },
    {
     "name": "stdout",
     "output_type": "stream",
     "text": [
      "Iteration 282: Validation MSE Regres Boost = 0.9623777039089008\n",
      "Iteration 283: Training MSE Regres Boost = 0.9189975336083132\n"
     ]
    },
    {
     "name": "stderr",
     "output_type": "stream",
     "text": [
      " 94%|███████████████████████████████████████████████████████████████████████████▍    | 283/300 [54:03<03:34, 12.62s/it]"
     ]
    },
    {
     "name": "stdout",
     "output_type": "stream",
     "text": [
      "Iteration 283: Validation MSE Regres Boost = 0.971442101626851\n",
      "Iteration 284: Training MSE Regres Boost = 0.9278959349627445\n"
     ]
    },
    {
     "name": "stderr",
     "output_type": "stream",
     "text": [
      " 95%|███████████████████████████████████████████████████████████████████████████▋    | 284/300 [54:16<03:22, 12.67s/it]"
     ]
    },
    {
     "name": "stdout",
     "output_type": "stream",
     "text": [
      "Iteration 284: Validation MSE Regres Boost = 0.9806265471032458\n",
      "Iteration 285: Training MSE Regres Boost = 0.9367876739281175\n"
     ]
    },
    {
     "name": "stderr",
     "output_type": "stream",
     "text": [
      " 95%|████████████████████████████████████████████████████████████████████████████    | 285/300 [54:28<03:09, 12.61s/it]"
     ]
    },
    {
     "name": "stdout",
     "output_type": "stream",
     "text": [
      "Iteration 285: Validation MSE Regres Boost = 0.9897909849564676\n",
      "Iteration 286: Training MSE Regres Boost = 0.9457861608563627\n"
     ]
    },
    {
     "name": "stderr",
     "output_type": "stream",
     "text": [
      " 95%|████████████████████████████████████████████████████████████████████████████▎   | 286/300 [54:41<02:56, 12.59s/it]"
     ]
    },
    {
     "name": "stdout",
     "output_type": "stream",
     "text": [
      "Iteration 286: Validation MSE Regres Boost = 0.9990754423863598\n"
     ]
    },
    {
     "name": "stderr",
     "output_type": "stream",
     "text": [
      " 96%|████████████████████████████████████████████████████████████████████████████▌   | 287/300 [54:51<02:35, 11.99s/it]"
     ]
    },
    {
     "name": "stdout",
     "output_type": "stream",
     "text": [
      "Iteration 287: Training MSE Regres Boost = 0.9547781580308471\n",
      "Iteration 287: Validation MSE Regres Boost = 1.0083399203748542\n"
     ]
    },
    {
     "name": "stderr",
     "output_type": "stream",
     "text": [
      " 96%|████████████████████████████████████████████████████████████████████████████▊   | 288/300 [55:00<02:13, 11.16s/it]"
     ]
    },
    {
     "name": "stdout",
     "output_type": "stream",
     "text": [
      "Iteration 288: Training MSE Regres Boost = 0.963876730532906\n",
      "Iteration 288: Validation MSE Regres Boost = 1.017724389758244\n"
     ]
    },
    {
     "name": "stderr",
     "output_type": "stream",
     "text": [
      " 96%|█████████████████████████████████████████████████████████████████████████████   | 289/300 [55:09<01:55, 10.54s/it]"
     ]
    },
    {
     "name": "stdout",
     "output_type": "stream",
     "text": [
      "Iteration 289: Training MSE Regres Boost = 0.9729689859165015\n",
      "Iteration 289: Validation MSE Regres Boost = 1.0270889078820102\n"
     ]
    },
    {
     "name": "stderr",
     "output_type": "stream",
     "text": [
      " 97%|█████████████████████████████████████████████████████████████████████████████▎  | 290/300 [55:19<01:40, 10.10s/it]"
     ]
    },
    {
     "name": "stdout",
     "output_type": "stream",
     "text": [
      "Iteration 290: Training MSE Regres Boost = 0.9821676439923746\n",
      "Iteration 290: Validation MSE Regres Boost = 1.036573389218898\n"
     ]
    },
    {
     "name": "stderr",
     "output_type": "stream",
     "text": [
      " 97%|█████████████████████████████████████████████████████████████████████████████▌  | 291/300 [55:28<01:27,  9.75s/it]"
     ]
    },
    {
     "name": "stdout",
     "output_type": "stream",
     "text": [
      "Iteration 291: Training MSE Regres Boost = 0.9913601575850814\n",
      "Iteration 291: Validation MSE Regres Boost = 1.0460379474779375\n"
     ]
    },
    {
     "name": "stderr",
     "output_type": "stream",
     "text": [
      " 97%|█████████████████████████████████████████████████████████████████████████████▊  | 292/300 [55:36<01:16,  9.52s/it]"
     ]
    },
    {
     "name": "stdout",
     "output_type": "stream",
     "text": [
      "Iteration 292: Training MSE Regres Boost = 1.0006589012347686\n",
      "Iteration 292: Validation MSE Regres Boost = 1.0556224407683221\n"
     ]
    },
    {
     "name": "stderr",
     "output_type": "stream",
     "text": [
      " 98%|██████████████████████████████████████████████████████████████████████████████▏ | 293/300 [55:45<01:05,  9.34s/it]"
     ]
    },
    {
     "name": "stdout",
     "output_type": "stream",
     "text": [
      "Iteration 293: Training MSE Regres Boost = 1.0099516730365865\n",
      "Iteration 293: Validation MSE Regres Boost = 1.065187039162633\n"
     ]
    },
    {
     "name": "stderr",
     "output_type": "stream",
     "text": [
      " 98%|██████████████████████████████████████████████████████████████████████████████▍ | 294/300 [55:54<00:55,  9.24s/it]"
     ]
    },
    {
     "name": "stdout",
     "output_type": "stream",
     "text": [
      "Iteration 294: Training MSE Regres Boost = 1.0193505022600877\n",
      "Iteration 294: Validation MSE Regres Boost = 1.0748715444065167\n"
     ]
    },
    {
     "name": "stderr",
     "output_type": "stream",
     "text": [
      " 98%|██████████████████████████████████████████████████████████████████████████████▋ | 295/300 [56:03<00:45,  9.15s/it]"
     ]
    },
    {
     "name": "stdout",
     "output_type": "stream",
     "text": [
      "Iteration 295: Training MSE Regres Boost = 1.0287435322710172\n",
      "Iteration 295: Validation MSE Regres Boost = 1.0845361829360995\n"
     ]
    },
    {
     "name": "stderr",
     "output_type": "stream",
     "text": [
      " 99%|██████████████████████████████████████████████████████████████████████████████▉ | 296/300 [56:13<00:36,  9.19s/it]"
     ]
    },
    {
     "name": "stdout",
     "output_type": "stream",
     "text": [
      "Iteration 296: Training MSE Regres Boost = 1.0382424470683318\n",
      "Iteration 296: Validation MSE Regres Boost = 1.0943207001334805\n"
     ]
    },
    {
     "name": "stderr",
     "output_type": "stream",
     "text": [
      " 99%|███████████████████████████████████████████████████████████████████████████████▏| 297/300 [56:22<00:27,  9.15s/it]"
     ]
    },
    {
     "name": "stdout",
     "output_type": "stream",
     "text": [
      "Iteration 297: Training MSE Regres Boost = 1.0477357352883727\n",
      "Iteration 297: Validation MSE Regres Boost = 1.1040853787983358\n"
     ]
    },
    {
     "name": "stderr",
     "output_type": "stream",
     "text": [
      " 99%|███████████████████████████████████████████████████████████████████████████████▍| 298/300 [56:31<00:18,  9.10s/it]"
     ]
    },
    {
     "name": "stdout",
     "output_type": "stream",
     "text": [
      "Iteration 298: Training MSE Regres Boost = 1.0573347356595015\n",
      "Iteration 298: Validation MSE Regres Boost = 1.1139699079492142\n"
     ]
    },
    {
     "name": "stderr",
     "output_type": "stream",
     "text": [
      "100%|███████████████████████████████████████████████████████████████████████████████▋| 299/300 [56:40<00:09,  9.08s/it]"
     ]
    },
    {
     "name": "stdout",
     "output_type": "stream",
     "text": [
      "Iteration 299: Training MSE Regres Boost = 1.0669282820886534\n",
      "Iteration 299: Validation MSE Regres Boost = 1.123834626749342\n"
     ]
    },
    {
     "name": "stderr",
     "output_type": "stream",
     "text": [
      "100%|████████████████████████████████████████████████████████████████████████████████| 300/300 [56:49<00:00, 11.36s/it]"
     ]
    },
    {
     "name": "stdout",
     "output_type": "stream",
     "text": [
      "Iteration 300: Training MSE Regres Boost = 1.0766273680335965\n",
      "Iteration 300: Validation MSE Regres Boost = 1.1338191678537177\n"
     ]
    },
    {
     "name": "stderr",
     "output_type": "stream",
     "text": [
      "\n"
     ]
    }
   ],
   "source": [
    "\n",
    "from tqdm import tqdm\n",
    "import numpy as np\n",
    "from sklearn.decomposition import PCA\n",
    "import random  # Add import for random module\n",
    "random.seed(10)\n",
    "\n",
    "class Node:\n",
    "    def __init__(self, data_indices, depth):\n",
    "        self.data_indices = data_indices\n",
    "        self.depth = depth\n",
    "        self.left = None\n",
    "        self.right = None\n",
    "        self.split_dim = None\n",
    "        self.split_value = None\n",
    "        self.label = None\n",
    "\n",
    "def create_data_matrix( X_train ):\n",
    "    X = X_train.reshape(-1, 784)\n",
    "    X = X.T\n",
    "    return X\n",
    "\n",
    "\n",
    "def center_data(X, mean=None):\n",
    "    if mean is None:\n",
    "        mean = np.mean(X, axis=1, keepdims=True)\n",
    "    X_centered = X - mean\n",
    "    return X_centered, mean\n",
    "\n",
    "def apply_pca(X_centered, p):\n",
    "    covariance_matrix = np.matmul(X_centered, X_centered.T) / (X_centered.shape[1] - 1)\n",
    "    V, U = np.linalg.eigh(covariance_matrix)\n",
    "\n",
    "    sorted_indices = np.argsort(V)[::-1]\n",
    "    U_sorted = U[:, sorted_indices][:, :p]\n",
    "\n",
    "    Y = U_sorted.T @ X_centered\n",
    "    return U_sorted, Y\n",
    "\n",
    "def reconstruct_data(U_sorted, Y):\n",
    "    X_recon = U_sorted @ Y\n",
    "    return X_recon\n",
    "\n",
    "def calculate_mse(X_centered, X_recon):\n",
    "    mse = np.sum((X_centered - X_recon) ** 2) / X_centered.size\n",
    "    return mse\n",
    "\n",
    "def plot_reconstructed_images(X_recon_p, p):\n",
    "    fig, axes = plt.subplots(10, 5, figsize=(10, 10))\n",
    "    for i in range(10):\n",
    "        for j in range(5):\n",
    "            axes[i, j].imshow(X_recon_p[:, i * 100 + j].reshape(28, 28), cmap='cubehelix_r')\n",
    "            axes[i, j].axis('off')\n",
    "\n",
    "    plt.suptitle(f\"Reconstructed Images with p={p}\")\n",
    "    plt.show()\n",
    "\n",
    "def calculate_class_accuracy(y_true, y_pred):\n",
    "\n",
    "    num_classes = 3\n",
    "    accuracy_per_class = np.zeros(num_classes)\n",
    "    total_per_class = np.zeros(num_classes)\n",
    "\n",
    "    for true_label, pred_label in zip(y_true, y_pred):\n",
    "        total_per_class[true_label] += 1\n",
    "        if true_label == pred_label:\n",
    "            accuracy_per_class[true_label] += 1\n",
    "\n",
    "    accuracy_per_class = accuracy_per_class / total_per_class\n",
    "    return accuracy_per_class\n",
    "\n",
    "\n",
    "\n",
    "def print_tree(root, level=0, prefix=\"Root:\"):\n",
    "    if root is not None:\n",
    "        print(\" \" * (level * 4) + prefix, root.label)\n",
    "        if root.left is not None or root.right is not None:\n",
    "            if root.left is not None:\n",
    "                print_tree(root.left, level + 1, prefix=\"L--\")\n",
    "            else:\n",
    "                print(\" \" * ((level + 1) * 4) + \"L--None\")\n",
    "            if root.right is not None:\n",
    "                print_tree(root.right, level + 1, prefix=\"R--\")\n",
    "            else:\n",
    "                print(\" \" * ((level + 1) * 4) + \"R--None\")\n",
    "\n",
    "\n",
    "\n",
    "def SSR(y):\n",
    "    mean_y = np.mean(y)\n",
    "    return np.sum((y - mean_y)**2 )\n",
    "\n",
    "def find_best_split(X, y, data_indices):\n",
    "    n_samples, n_features = X[data_indices].shape\n",
    "    \n",
    "    best_loss = float('inf')\n",
    "    best_split_dim = None\n",
    "    best_split_value = None\n",
    "    \n",
    "    for dim in range(n_features):\n",
    "        unique_values = np.unique(X[data_indices, dim])\n",
    "        \n",
    "        for i in range(len(unique_values) - 1):\n",
    "            value = (unique_values[i] + unique_values[i + 1]) / 2  # Midpoint split\n",
    "            left_indices = data_indices[X[data_indices, dim] <= value]\n",
    "            right_indices = data_indices[X[data_indices, dim] > value]\n",
    "            \n",
    "            # Calculate SSR for left and right splits\n",
    "            SSR_left = SSR(y[left_indices])\n",
    "            SSR_right = SSR(y[right_indices])\n",
    "            \n",
    "            # Calculate total SSR for the split\n",
    "            total_SSR = SSR_left + SSR_right\n",
    "            \n",
    "            if total_SSR < best_loss:\n",
    "                best_loss = total_SSR\n",
    "                best_split_dim = dim\n",
    "                best_split_value = value\n",
    "                \n",
    "    return best_split_dim, best_split_value, best_loss\n",
    "    \n",
    "\n",
    "def assign_label_for_node(node, y):\n",
    "    node.label = np.mean(y[node.data_indices])\n",
    "    return node\n",
    "\n",
    "def check_stopping_criteria(depth, max_depth):\n",
    "    if depth >= max_depth:\n",
    "        return True\n",
    "    return False\n",
    "\n",
    "def grow_tree(X, y, data_indices=None, depth=0, max_depth=1):\n",
    "    global total_leaf_nodes\n",
    "    \n",
    "    if data_indices is None:\n",
    "        data_indices = np.arange(X.shape[0])\n",
    "\n",
    "    n_samples, n_features = X[data_indices].shape\n",
    "\n",
    "    node= Node(data_indices=data_indices, depth=depth)\n",
    "\n",
    "    if check_stopping_criteria(depth, max_depth):\n",
    "        assign_label_for_node(node, y)\n",
    "        total_leaf_nodes += 1\n",
    "        return node, None\n",
    "\n",
    "    best_split_dim, best_split_value,best_loss = find_best_split(X, y, data_indices)\n",
    "    \n",
    "    left_indices = data_indices[X[data_indices, best_split_dim] <= best_split_value]\n",
    "    right_indices = data_indices[X[data_indices, best_split_dim] > best_split_value]\n",
    "\n",
    "    node.split_dim = best_split_dim\n",
    "    node.split_value = best_split_value\n",
    "\n",
    "    node.left, _ = grow_tree(X, y, left_indices, depth=depth + 1, max_depth=max_depth)\n",
    "    node.right, _ = grow_tree(X, y, right_indices, depth=depth + 1, max_depth=max_depth)\n",
    "\n",
    "    return node, best_loss\n",
    "\n",
    "def predict(x, node):\n",
    "    if node.label is not None:\n",
    "        return node.label\n",
    "    if x[node.split_dim] <= node.split_value:\n",
    "        return predict(x, node.left)\n",
    "    else:\n",
    "        return predict(x, node.right)\n",
    "\n",
    "# # Load MNIST dataset\n",
    "# mnist_data = np.load(r\"D:\\Downloads\\mnist.npz\")\n",
    "# x_train, y_train = mnist_data['x_train'], mnist_data['y_train']\n",
    "\n",
    "# # Select classes 0, 1\n",
    "# selected_indices = np.where((y_train == 0) | (y_train == 1))[0]\n",
    "# x_selected = x_train[selected_indices]\n",
    "# y_selected = y_train[selected_indices]\n",
    "\n",
    "# # Select 1000 samples from each class for validation\n",
    "# class_0_indices = np.where(y_selected == 0)[0][:500]\n",
    "# class_1_indices = np.where(y_selected == 1)[0][:500]\n",
    "# val_indices = np.concatenate([class_0_indices, class_1_indices])\n",
    "\n",
    "# x_val = x_selected[val_indices]\n",
    "# y_val = y_selected[val_indices]\n",
    "\n",
    "# # Remove validation samples from the training set\n",
    "# x_train = np.delete(x_selected, val_indices, axis=0)\n",
    "# y_train = np.delete(y_selected, val_indices)\n",
    "\n",
    "# test_indices = []\n",
    "# for i in range(2):  # For each class\n",
    "#     class_indices = np.where(y_train == i)[0]\n",
    "#     remaining_indices = np.setdiff1d(class_indices, val_indices)\n",
    "#     test_indices.extend(remaining_indices[:500])  # Select 500 from each class\n",
    "\n",
    "# x_test = x_train[test_indices]\n",
    "# y_test = y_train[test_indices]\n",
    "\n",
    "# # Remove test samples from the training set\n",
    "# x_train = np.delete(x_train, test_indices, axis=0)\n",
    "# y_train = np.delete(y_train, test_indices)\n",
    "\n",
    "# # Verify shapes\n",
    "# print(\"Shapes:\")\n",
    "# print(\"Training set:\", x_train.shape, y_train.shape)\n",
    "# print(\"Validation set:\", x_val.shape, y_val.shape)\n",
    "# print(\"Test set:\", x_test.shape, y_test.shape)\n",
    "\n",
    "\n",
    "# X = create_data_matrix(x_train)\n",
    "# X_centered,X_train_mean = center_data(X)\n",
    "# p = 5\n",
    "# U_sorted, x_reduced = apply_pca(X_centered, p)\n",
    "# x_reduced = x_reduced.T\n",
    "# print(x_reduced.shape)\n",
    "\n",
    "\n",
    "# X = create_data_matrix(x_val)\n",
    "# X_centered_val,X_val_mean = center_data(X,X_train_mean)\n",
    "# p = 5\n",
    "# x_reduced_val = U_sorted.T @ X_centered_val\n",
    "# x_reduced_val = x_reduced_val.T\n",
    "# print(x_reduced_val.shape)\n",
    "\n",
    "\n",
    "\n",
    "# X = create_data_matrix(x_test)\n",
    "# X_centered_test,X_test_mean = center_data(X,X_train_mean)\n",
    "# p = 5\n",
    "# x_reduced_test = U_sorted.T @ X_centered_test\n",
    "# x_reduced_test = x_reduced_test.T\n",
    "# print(x_reduced_test.shape)\n",
    "\n",
    "import numpy as np\n",
    "\n",
    "# Load MNIST dataset\n",
    "mnist_data = np.load(r\"D:\\Downloads\\mnist.npz\")\n",
    "x_train_all, y_train_all = mnist_data['x_train'], mnist_data['y_train']\n",
    "x_test_all, y_test_all = mnist_data['x_test'], mnist_data['y_test']\n",
    "\n",
    "# Select classes 0 and 1\n",
    "selected_train_indices = np.where((y_train_all == 0) | (y_train_all == 1))[0]\n",
    "selected_test_indices = np.where((y_test_all == 0) | (y_test_all == 1))[0]\n",
    "\n",
    "x_selected_train = x_train_all[selected_train_indices]\n",
    "y_selected_train = y_train_all[selected_train_indices]\n",
    "x_selected_test = x_test_all[selected_test_indices]\n",
    "y_selected_test = y_test_all[selected_test_indices]\n",
    "\n",
    "# Sample 1000 samples randomly from each class for validation\n",
    "num_val_samples_per_class = 1000\n",
    "\n",
    "# Initialize empty lists to store indices\n",
    "val_indices = []\n",
    "\n",
    "# For each class (0 and 1)\n",
    "for class_label in [0, 1]:\n",
    "    # Find indices of samples belonging to the current class in the training set\n",
    "    class_indices_train = np.where(y_selected_train == class_label)[0]\n",
    "\n",
    "    # Randomly select validation samples\n",
    "    val_indices.extend(np.random.choice(class_indices_train, size=num_val_samples_per_class, replace=False))\n",
    "\n",
    "# Convert list to numpy array\n",
    "val_indices = np.array(val_indices)\n",
    "\n",
    "# Remove validation samples from the training set\n",
    "x_train = np.delete(x_selected_train, val_indices, axis=0)\n",
    "y_train = np.delete(y_selected_train, val_indices)\n",
    "\n",
    "# Separate validation set\n",
    "x_val = x_selected_train[val_indices]\n",
    "y_val = y_selected_train[val_indices]\n",
    "\n",
    "# Verify shapes\n",
    "print(\"Shapes:\")\n",
    "print(\"x_train:\", x_train.shape)\n",
    "print(\"y_train:\", y_train.shape)\n",
    "print(\"x_val:\", x_val.shape)\n",
    "print(\"y_val:\", y_val.shape)\n",
    "\n",
    "# x_test should contain all samples from the original x_test_all\n",
    "x_test = x_selected_test\n",
    "y_test = y_selected_test\n",
    "\n",
    "# Verify shapes\n",
    "print(\"x_test:\", x_test.shape)\n",
    "print(\"y_test:\", y_test.shape)\n",
    "\n",
    "X = create_data_matrix(x_train)\n",
    "X_centered,X_train_mean = center_data(X)\n",
    "p = 5\n",
    "U_sorted, x_reduced = apply_pca(X_centered, p)\n",
    "x_reduced = x_reduced.T\n",
    "print(x_reduced.shape)\n",
    "\n",
    "\n",
    "X = create_data_matrix(x_val)\n",
    "X_centered_val,X_val_mean = center_data(X,X_train_mean)\n",
    "p = 5\n",
    "x_reduced_val = U_sorted.T @ X_centered_val\n",
    "x_reduced_val = x_reduced_val.T\n",
    "print(x_reduced_val.shape)\n",
    "\n",
    "\n",
    "\n",
    "X = create_data_matrix(x_test)\n",
    "X_centered_test,X_test_mean = center_data(X,X_train_mean)\n",
    "p = 5\n",
    "x_reduced_test = U_sorted.T @ X_centered_test\n",
    "x_reduced_test = x_reduced_test.T\n",
    "print(x_reduced_test.shape)\n",
    "\n",
    "\n",
    "\n",
    "\n",
    "# def reg_boost(X, y, X_val, y_val, num_iterations):\n",
    "    \n",
    "#     classifiers = []  # Store the decision trees\n",
    "#     validation_mse = []  # Store validation MSE\n",
    "#     l = 0.01\n",
    "#     global total_leaf_nodes\n",
    "#     y_cap = np.array(y[:],dtype=np.float32)\n",
    "#     y_val = np.array(y_val[:],dtype=np.float32)\n",
    "#     for _ in tqdm(range(num_iterations)):\n",
    "#         # Create a decision tree using the dataset\n",
    "#         total_leaf_nodes = 0    \n",
    "#         tree, best_loss = grow_tree(X, y_cap)\n",
    "#         predictions = np.array([predict(x, tree) for x in X],dtype=np.float32)\n",
    "#         y_cap = np.sign(y_cap - predictions)\n",
    "        \n",
    "#         classifiers.append(tree)\n",
    "\n",
    "#         train_predictions = reg_boost_predict(classifiers,X)\n",
    "#         # Calculate MSE on the validation set\n",
    "#         mse = np.mean((y - train_predictions) ** 2)\n",
    "#         print(f\"Iteration {_+1}: Training MSE Regres Boost= {mse}\")\n",
    "#         validation_mse.append(mse)\n",
    "\n",
    "        \n",
    "#         # Calculate predictions on the validation set\n",
    "#         val_predictions = reg_boost_predict(classifiers,X_val)\n",
    "#         # Calculate MSE on the validation set\n",
    "#         mse = np.mean((val_predictions - y_val) ** 2)\n",
    "#         print(f\"Iteration {_+1}: Validation MSE Regres Boost= {mse}\")\n",
    "#         validation_mse.append(mse)\n",
    "        \n",
    "#     return classifiers, validation_mse\n",
    "\n",
    "\n",
    "# def reg_boost_predict(classifiers, X):\n",
    "#     l = 0.01\n",
    "#     predictions = np.zeros(len(X))\n",
    "    \n",
    "#     for tree in classifiers:\n",
    "#         prediction = np.array([predict(x, tree) for x in X],dtype=np.float32)\n",
    "#         # prediction[prediction == 0] = -1  # Change 0 to -1\n",
    "#         predictions += (l * (prediction ))\n",
    "    \n",
    "#     return prediction\n",
    "def reg_boost(X, y, X_val, y_val, num_iterations):\n",
    "    \n",
    "    classifiers = []  # Store the decision trees\n",
    "    validation_mse = []  # Store validation MSE\n",
    "    l = 0.01  # Learning rate\n",
    "    global total_leaf_nodes\n",
    "    y_cap = np.array(y[:], dtype=np.float32)\n",
    "    y_val = np.array(y_val[:], dtype=np.float32)\n",
    "    \n",
    "    for idx in tqdm(range(num_iterations)):\n",
    "        # Create a decision tree using the dataset\n",
    "        total_leaf_nodes = 0    \n",
    "        tree, _ = grow_tree(X, y_cap)\n",
    "        predictions = np.array([predict(x, tree) for x in X], dtype=np.float32)\n",
    "        # Update y_cap using gradient descent with absolute loss\n",
    "        y_cap -= l * np.sign( y_cap-predictions )\n",
    "        \n",
    "        classifiers.append(tree)\n",
    "\n",
    "        # Calculate train MSE\n",
    "        train_predictions = reg_boost_predict(classifiers, X)\n",
    "        train_mse = np.mean((y - train_predictions) ** 2)\n",
    "        print(f\"Iteration {idx+1}: Training MSE Regres Boost = {train_mse}\")\n",
    "\n",
    "        # Calculate validation MSE\n",
    "        val_predictions = reg_boost_predict(classifiers, X_val)\n",
    "        val_mse = np.mean((val_predictions - y_val) ** 2)\n",
    "        print(f\"Iteration {idx+1}: Validation MSE Regres Boost = {val_mse}\")\n",
    "        validation_mse.append(val_mse)\n",
    "        \n",
    "    return classifiers, validation_mse\n",
    "\n",
    "def reg_boost_predict(classifiers, X):\n",
    "    l = 0.01\n",
    "    predictions = np.zeros(len(X))\n",
    "    \n",
    "    for tree in classifiers:\n",
    "        prediction = np.array([predict(x, tree) for x in X], dtype=np.float32)\n",
    "        predictions += l * prediction\n",
    "    \n",
    "    return predictions\n",
    "\n",
    "\n",
    "# Example usage:\n",
    "# classifiers = ada_boost(x_reduced, y_train, num_iterations,)\n",
    "# Example usage:\n",
    "num_iterations = 300\n",
    "classifiers, validation_accuracies = reg_boost(x_reduced, y_train, x_reduced_val,y_val, num_iterations)\n",
    "\n",
    "# Example usage:\n",
    "# predictions = ada_boost_predict(classifiers, x_val)\n"
   ]
  },
  {
   "cell_type": "code",
   "execution_count": 30,
   "id": "38f494fd-8524-4f3a-8027-187533e55249",
   "metadata": {
    "scrolled": true
   },
   "outputs": [
    {
     "data": {
      "image/png": "[encoded data removed]",
      "text/plain": [
       "<Figure size 640x480 with 1 Axes>"
      ]
     },
     "metadata": {},
     "output_type": "display_data"
    }
   ],
   "source": [
    "import matplotlib.pyplot as plt\n",
    "plt.plot( validation_accuracies)\n",
    "plt.xlabel('Number of Trees')\n",
    "plt.ylabel('MSE')\n",
    "plt.title('Validation MSE vs Number of Trees')\n",
    "plt.grid(True)\n",
    "plt.show()"
   ]
  },
  {
   "cell_type": "code",
   "execution_count": 28,
   "id": "b23eab34-0bd9-43c0-9104-d3bdc946568d",
   "metadata": {},
   "outputs": [
    {
     "name": "stdout",
     "output_type": "stream",
     "text": [
      "Test MSE on best Tree 0.5366430260047281\n"
     ]
    }
   ],
   "source": [
    "tree= classifiers[np.argmax(validation_accuracies)]\n",
    "prediction = np.array([predict(x, tree) for x in x_reduced_test],dtype = np.int64)\n",
    "print(\"Test MSE on best Tree\",np.mean((prediction- y_test)**2))"
   ]
  },
  {
   "cell_type": "code",
   "execution_count": 29,
   "id": "5c9cac07-9c88-4dbf-9a97-2768e103ed2e",
   "metadata": {},
   "outputs": [
    {
     "name": "stdout",
     "output_type": "stream",
     "text": [
      "Test error of Gradient Boosting 1.0784249246712925\n"
     ]
    }
   ],
   "source": [
    "test_predictions = reg_boost_predict(classifiers, x_reduced_test)\n",
    "print(\"Test error of Gradient Boosting\",np.mean((test_predictions- y_test)**2))"
   ]
  }
 ],
 "metadata": {
  "kernelspec": {
   "display_name": "Python 3 (ipykernel)",
   "language": "python",
   "name": "python3"
  },
  "language_info": {
   "codemirror_mode": {
    "name": "ipython",
    "version": 3
   },
   "file_extension": ".py",
   "mimetype": "text/x-python",
   "name": "python",
   "nbconvert_exporter": "python",
   "pygments_lexer": "ipython3",
   "version": "3.11.8"
  }
 },
 "nbformat": 4,
 "nbformat_minor": 5
}
